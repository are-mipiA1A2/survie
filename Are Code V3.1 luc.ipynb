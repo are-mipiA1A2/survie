{
 "cells": [
  {
   "cell_type": "markdown",
   "metadata": {},
   "source": [
    "## Modélisation de la survie d'un individu dans un milieu hostile."
   ]
  },
  {
   "cell_type": "code",
   "execution_count": 4,
   "metadata": {},
   "outputs": [],
   "source": [
    "import numpy as np\n",
    "import matplotlib.pyplot as plt\n",
    "import time\n",
    "import matplotlib.animation as animation\n",
    "from matplotlib import colors"
   ]
  },
  {
   "cell_type": "markdown",
   "metadata": {},
   "source": [
    "# Fonctions Humain"
   ]
  },
  {
   "cell_type": "markdown",
   "metadata": {},
   "source": [
    "La fonction suivante renvoie les jours restants avant la construction de l'abri, si l'abri est construit, si l'agent est secouru(e) en trouvant un village, s'il possède une source infini. "
   ]
  },
  {
   "cell_type": "code",
   "execution_count": 5,
   "metadata": {},
   "outputs": [],
   "source": [
    "def construction_abri(cap , source_inf , vegr , veg , s , jourres , abri):\n",
    "    \"\"\"float*bool*int*float*int*bool => bool*int*bool*bool\"\"\"\n",
    "    #sauve:bool\n",
    "    sauve = False\n",
    "    #rand:float\n",
    "    if jourres != 0:\n",
    "        jourres = jourres - 1\n",
    "    else:\n",
    "        abri = True\n",
    "    if jourres == -11 or vegr == 0:\n",
    "        jourres = ((45/(cap*0.5)//10 * 1/(veg/5)))/1.\n",
    "        abri = False\n",
    "        source_inf = False\n",
    "        rand = np.random.random_sample()\n",
    "        if rand < s:\n",
    "            sauve = True\n",
    "    jourres = jourres//1\n",
    "\n",
    "    return jourres , abri , sauve , source_inf"
   ]
  },
  {
   "cell_type": "code",
   "execution_count": 6,
   "metadata": {},
   "outputs": [
    {
     "data": {
      "text/plain": [
       "(22.0, False, True, False)"
      ]
     },
     "execution_count": 6,
     "metadata": {},
     "output_type": "execute_result"
    }
   ],
   "source": [
    "construction_abri(0.1,False,1,20,0.1,-10,False)"
   ]
  },
  {
   "cell_type": "markdown",
   "metadata": {},
   "source": [
    "Renvoie l'hydratation de l'agent après qu'il soit allé chercher de l'eau "
   ]
  },
  {
   "cell_type": "code",
   "execution_count": 7,
   "metadata": {},
   "outputs": [],
   "source": [
    "def trouver_eau(p_eau , capadap , source_inf , hydrat):\n",
    "    \"\"\"float*float*bool*float => bool*float\"\"\"\n",
    "    b=0\n",
    "    if source_inf == 1:\n",
    "        hydrat = 1\n",
    "    else:\n",
    "        rand = np.random.random_sample()\n",
    "        if rand <= 0.4*p_eau*(2.5*capadap):\n",
    "            hydrat = hydrat + 0.25\n",
    "        elif rand <= p_eau*(5*capadap) :\n",
    "            hydrat = hydrat + 0.5\n",
    "            rand=np.random.random_sample()\n",
    "            if rand > 0.4: \n",
    "                source_inf = True\n",
    "    if hydrat > 1:\n",
    "        hydrat = 1\n",
    "    return source_inf , hydrat"
   ]
  },
  {
   "cell_type": "markdown",
   "metadata": {},
   "source": [
    "La fonction suivante renvoie la santé de l'agent après qu'il soit allé chercher des vegetaux et le nombre de vegetaux restants"
   ]
  },
  {
   "cell_type": "code",
   "execution_count": 8,
   "metadata": {},
   "outputs": [],
   "source": [
    " def inter_veget(veg,alimentation,capadap,vegre):\n",
    "    \"\"\"int*float*float=>int*float\"\"\"\n",
    "    #p_vg:float\n",
    "    p_vg=0.6\n",
    "    #trouve:bool\n",
    "    trouve=True\n",
    "    #vegr:int\n",
    "    vegr=vegre\n",
    "    if vegr == 0:\n",
    "        vegr = veg\n",
    "    while vegr>0 and trouve==True:\n",
    "        rand=np.random.random_sample()\n",
    "        if rand * capadap < p_vg:\n",
    "            alimentation = alimentation + (0.08 * capadap)\n",
    "            vegr = vegr - 1\n",
    "            p_vg = p_vg-0.1\n",
    "        else:\n",
    "            trouve=False\n",
    "    if alimentation > 1:\n",
    "        alimentation = 1\n",
    "    return alimentation , vegr"
   ]
  },
  {
   "cell_type": "markdown",
   "metadata": {},
   "source": [
    "La fonction suivante renvoie l'alimentation de l'agent apres son interaction possible avec des animaux non dangereux"
   ]
  },
  {
   "cell_type": "code",
   "execution_count": 9,
   "metadata": {},
   "outputs": [],
   "source": [
    "\n",
    "def inter_anim(p_a, force, capadap, alimentation, sante,c):\n",
    "    \"\"\"\n",
    "    float ^6 -> float ^2\n",
    "    hyp : \n",
    "    \"\"\"\n",
    " \n",
    "    random1 = np.random.random_sample()\n",
    "    if random1 <= p_a : \n",
    "        alimentation = alimentation + 0.15\n",
    "    if alimentation > 1:\n",
    "        alimentation = 1.0\n",
    "        \n",
    "    return alimentation , sante , c"
   ]
  },
  {
   "cell_type": "markdown",
   "metadata": {},
   "source": [
    "Renvoie la santé et la force en fonction de l'alimentation et hydratation "
   ]
  },
  {
   "cell_type": "code",
   "execution_count": 10,
   "metadata": {},
   "outputs": [],
   "source": [
    "def sante_fct_hydr_alim(alimentation,hydratation,sante,abri,force,c):\n",
    "    \"\"\"float³=>float\n",
    "    force en fonction de l'alimentation et hydratation\"\"\"\n",
    "    \n",
    "    if abri==True:\n",
    "        sante=sante+0.025\n",
    "    \n",
    "    if alimentation >= 0.7 and hydratation >=0.7:\n",
    "        if sante<0.2:\n",
    "            sante = 0.2\n",
    "        else:\n",
    "            sante = sante + 0.05\n",
    "    elif alimentation>=0.5 and hydratation >=0.5:\n",
    "        alimentation=alimentation\n",
    "    elif alimentation<0.5 :\n",
    "        if hydratation<0.5:\n",
    "            sante = sante - ((0.5-alimentation)*0.7 + (0.5-hydratation)*0.9)\n",
    "        else:\n",
    "            sante = sante - (0.5-alimentation)*0.5\n",
    "    else:\n",
    "        sante = sante - (0.6-hydratation)\n",
    "    if sante <=0:\n",
    "        sante=0\n",
    "        c=\"Mort d'épuisement\"\n",
    "    if sante > 1.0 :\n",
    "        sante = 1.0\n",
    "    \n",
    "    if sante >=0.3 and force<=1.0:\n",
    "        force=force+0.01\n",
    "    elif force>=0.1:\n",
    "        force=force-0.05\n",
    "    \n",
    "    \n",
    "    hydratation=hydratation-0.3\n",
    "    alimentation=alimentation-0.15\n",
    "    if hydratation <= 0:\n",
    "        hydratation =0\n",
    "        c = \"Mort de déshydratation\"\n",
    "        sante = 0\n",
    "    if alimentation <= 0:\n",
    "        alimentation = 0\n",
    "        c = \"Mort de faim\"\n",
    "        sante = 0\n",
    "    return sante,alimentation,hydratation,force,c"
   ]
  },
  {
   "cell_type": "markdown",
   "metadata": {},
   "source": [
    "Detetermine retourne si l agent est secouru par une equipe de secours"
   ]
  },
  {
   "cell_type": "code",
   "execution_count": 11,
   "metadata": {},
   "outputs": [],
   "source": [
    "def secouru(p_s, j,p_s_ini,p_s_10):\n",
    "    \"\"\"\n",
    "    float * int -> bool \n",
    "    hyp :\n",
    "    retourne si l agent est secouru par une equipe de secours\n",
    "    \"\"\"\n",
    "\n",
    "\n",
    "    #secouru : bool\n",
    "    secouru = False\n",
    "\n",
    "    if j <= 10 :\n",
    "        p_s = p_s + p_s_ini*0.2\n",
    "    elif j <= 25 :\n",
    "        p_s_10 = p_s\n",
    "    else :\n",
    "        p_s = p_s - p_s_10*0.2\n",
    "    \n",
    "    random5=np.random.random_sample()\n",
    "    secouru = random5 <= p_s\n",
    "\n",
    "    return secouru , p_s\n"
   ]
  },
  {
   "cell_type": "code",
   "execution_count": 12,
   "metadata": {},
   "outputs": [
    {
     "data": {
      "text/plain": [
       "(False, 0.009999989999999999)"
      ]
     },
     "execution_count": 12,
     "metadata": {},
     "output_type": "execute_result"
    }
   ],
   "source": [
    "secouru(0.008666657999999999,0,0.00666666,0)"
   ]
  },
  {
   "cell_type": "code",
   "execution_count": 13,
   "metadata": {},
   "outputs": [],
   "source": [
    "def model(jour,Lsante):\n",
    "    \"\"\"int*list[float]\"\"\"\n",
    "    Ljour=[]\n",
    "    for i in range(0,jour):\n",
    "        Ljour.append(i+1)\n",
    "    plt.bar(Ljour,Lsante , color='green' )\n",
    "   "
   ]
  },
  {
   "cell_type": "markdown",
   "metadata": {},
   "source": [
    "## FONCTIONS PREDATEUR"
   ]
  },
  {
   "cell_type": "markdown",
   "metadata": {},
   "source": [
    "Retourne le niveau d'alimentation et d'hydratation du predateur"
   ]
  },
  {
   "cell_type": "code",
   "execution_count": 14,
   "metadata": {},
   "outputs": [],
   "source": [
    "def nourriture_p(p_a, alimentation_p, p_e, hydrat_p):\n",
    "    \"\"\"\n",
    "    float^4 -> float^2\n",
    "    retourne le niveau d alimentation et d hydratation du predateur\n",
    "    \"\"\"\n",
    "    \n",
    "    rand = np.random.random_sample()\n",
    "    if rand <= 1.5*p_a:\n",
    "        alimentation_p = alimentation_p + 0.15\n",
    "    if alimentation_p >1 :\n",
    "        alimentation_p = 1\n",
    "    if rand <= 1.3*p_e:\n",
    "        hydrat_p = hydrat_p + 0.4\n",
    "    if hydrat_p > 1:\n",
    "        hydrat_p = 1\n",
    "    return alimentation_p,hydrat_p"
   ]
  },
  {
   "cell_type": "markdown",
   "metadata": {},
   "source": [
    "Retourne le niveau d alimentation du predateur jour apres jour"
   ]
  },
  {
   "cell_type": "code",
   "execution_count": 15,
   "metadata": {},
   "outputs": [],
   "source": [
    "def ev_nourriture_p(alimentation_p, hydrat_p):\n",
    "    \"\"\"\n",
    "    float^2 -> float^2\n",
    "    retourne le niveau d alimentation du predateur jour apres jour\n",
    "    \"\"\"\n",
    "    alimentation_p = alimentation_p - 0.1\n",
    "    hydrat_p = hydrat_p - 0.3\n",
    "    return alimentation_p, hydrat_p"
   ]
  },
  {
   "cell_type": "markdown",
   "metadata": {},
   "source": [
    "Retourne si le predateur meurt de faim ou deshydratation"
   ]
  },
  {
   "cell_type": "code",
   "execution_count": 16,
   "metadata": {},
   "outputs": [],
   "source": [
    "def mort_p_nourriture(alimentation_p, hydrat_p):\n",
    "    \"\"\"\n",
    "    float^2 -> bool\n",
    "    retourne si le predateur meurt de faim ou deshydratation\n",
    "    \"\"\"\n",
    "    if alimentation_p <= 0 or hydrat_p <=0 :\n",
    "        return True\n",
    "    else :\n",
    "        return False"
   ]
  },
  {
   "cell_type": "markdown",
   "metadata": {},
   "source": [
    "Retourne l'issue du combat entre le predateur et l'humain"
   ]
  },
  {
   "cell_type": "code",
   "execution_count": 17,
   "metadata": {},
   "outputs": [],
   "source": [
    "def combat_p_h(force,cap,dang_p):\n",
    "    \"\"\"\n",
    "    float^4 -> float * bool\n",
    "    retourne l'issue du combat entre le predateur et l'humain\n",
    "    \"\"\"\n",
    "    mort=False\n",
    "    rand = np.random.random_sample()\n",
    "    res = rand*(dang_p+0.45)*(cap-1.65)*(force-1.65)\n",
    "        \n",
    "    \n",
    "    return res"
   ]
  },
  {
   "cell_type": "markdown",
   "metadata": {},
   "source": [
    "Retourne le niveau de sante et d alimentation en fonction de l'issue du combat, et la cause de la mort si l agent humain meurt"
   ]
  },
  {
   "cell_type": "code",
   "execution_count": 18,
   "metadata": {},
   "outputs": [],
   "source": [
    "def sante_apres_combat(res,alimentation,sante,alimentation_p,sante_p):\n",
    "    \"\"\"\n",
    "    float ^5 -> float ^4 * str\n",
    "    retourne le niveau de sante et d alimentation en fonction de l'issue du combat, \n",
    "    et la cause de la mort si l agent humain meurt\n",
    "    \"\"\"\n",
    "    #c : str\n",
    "    c=\"\"\n",
    "    if res < 0.16 :\n",
    "        alimentation = alimentation + 0.15\n",
    "        sante_p = 0\n",
    "        c = \"le prédateur est tué par l'humain\"\n",
    "    elif res < 0.33 :\n",
    "        alimentation = alimentation + 0.15\n",
    "        sante = sante - res\n",
    "        sante_p = 0\n",
    "        c = \" le prédateur est tué par l'humain\"\n",
    "    elif res < 0.5 :\n",
    "        sante_p = sante_p - (1 - res)\n",
    "    elif res < 0.66 :\n",
    "        sante = sante - res\n",
    "        sante_p = sante_p - (1 - res)\n",
    "    elif res < 0.8 :\n",
    "        sante = 0\n",
    "        sante_p = sante_p - (1 - res)\n",
    "        c = \"l'humain est tué par le prédateur\"\n",
    "    else :\n",
    "        sante = 0\n",
    "        c = \"l'humain est tué par le prédateur\"\n",
    "    return alimentation, sante, alimentation_p, sante_p , c \n",
    "    "
   ]
  },
  {
   "cell_type": "markdown",
   "metadata": {},
   "source": [
    "Retourne la sante du prédateur en fonction de son alimentation et hydratation"
   ]
  },
  {
   "cell_type": "code",
   "execution_count": 19,
   "metadata": {},
   "outputs": [],
   "source": [
    "def sante_fct_hydr_alim_p(alimentation_p, hydrat_p, sante_p):\n",
    "    \"\"\"\n",
    "    float ^3 -> float\n",
    "    retourne la sante du prédateur en fonction de son alimentation et hydratation\n",
    "    \"\"\"\n",
    "    \n",
    "    if alimentation_p >= 0.5 and hydrat_p >=0.5:\n",
    "        if sante_p<0.3:\n",
    "              sante_p = 0.3\n",
    "        else:\n",
    "              sante_p = sante_p + 0.1\n",
    "    elif alimentation_p < 0.5 :\n",
    "        if hydrat_p < 0.5:\n",
    "            sante_p = sante_p - ((0.5-alimentation_p)*0.5 + (0.5-hydrat_p)*0.8)\n",
    "        else:\n",
    "            sante_p = sante_p - (0.5-alimentation_p)*0.4\n",
    "    else:\n",
    "        sante_p = sante_p - (0.5-hydrat_p)*0.84\n",
    "    if sante_p > 1.0 :\n",
    "        sante_p = 1.0\n",
    "    return sante_p"
   ]
  },
  {
   "cell_type": "markdown",
   "metadata": {},
   "source": [
    "# Dictionnaires Agents"
   ]
  },
  {
   "cell_type": "code",
   "execution_count": 20,
   "metadata": {},
   "outputs": [],
   "source": [
    "#dictionnaire_humain:dict[str:tuple[float,float]]\n",
    "dictionnaire_humain={}\n",
    "dictionnaire_humain[\"professionnel\"]=(0.8,0.9)\n",
    "dictionnaire_humain[\"bureaucrate\"]=(0.2,0.3)\n",
    "dictionnaire_humain[\"moyen\"]=(0.5,0.5)\n",
    "dictionnaire_humain[\"Maxime\"]=(0.1,0.1)\n",
    "\n",
    "#dictionnaire_biome:dict[str:tuple[float,float,int,float,float,float]]\n",
    "dictionnaire_biome={}\n",
    "dictionnaire_biome[\"Amazonie\"]=(0.65,8,33,0.7,0.03571428571,0.007142857142)\n",
    "dictionnaire_biome[\"Alaska\"]=(0.38,5,18,0.6,0.00043185564,0.0086371128)\n",
    "dictionnaire_biome[\"France\"]=(0.3,1,17,0.6,0.03,0.06)\n",
    "dictionnaire_biome[\"Sahara\"]=(0.25,6,1,0.1,0.00333333,0.00666666)\n",
    "\n",
    "#dictionnaire_predateur:dict[str:tuple[float]]\n",
    "dictionnaire_predateur={}\n",
    "dictionnaire_predateur[\"jaguar\"]=(0.7)      #-> amazonie\n",
    "dictionnaire_predateur[\"guepard\"]=(0.7)      #-> sahara\n",
    "dictionnaire_predateur[\"grizzly\"]=(0.9)     #-> alaska\n",
    "dictionnaire_predateur[\"sanglier\"]=(0.4)    #-> france"
   ]
  },
  {
   "cell_type": "code",
   "execution_count": 21,
   "metadata": {},
   "outputs": [],
   "source": [
    "def nouveau_humain(nom,force,cap):\n",
    "    \"\"\"\n",
    "    str * float^2 -> dict[str:tuple[float,float]]\n",
    "    hyp: len(nom) >= 1 and force >0 and force <1 and cap >0 and cap <1\n",
    "    retourne le dictionnaire des agents augmenté de l agent créé\n",
    "    \"\"\"\n",
    "    dictionnaire_humain[nom]=(force,cap)\n",
    "    return dictionnaire_humain\n"
   ]
  },
  {
   "cell_type": "code",
   "execution_count": 22,
   "metadata": {},
   "outputs": [],
   "source": [
    "def nouveau_biome(nom,p_a,p_ap,veg,p_e,p_v,p_s):\n",
    "    \"\"\"\n",
    "    str * float^6 -> dict[str:tuple[float,float,int,float,float,float]]\n",
    "    hyp: len(nom) >= 1 and 0< p_a <1 and 0< p_ap <1 and 0< veg and 0< p_e <1 and 0< p_v <1 and 0< p_s <1\n",
    "    retourne le dictionnaire des biomes augmenté du biome créé\n",
    "    \"\"\"\n",
    "    dictionnaire_biome[nom]=(p_a,p_ap,veg,p_e,p_v,p_s)"
   ]
  },
  {
   "cell_type": "code",
   "execution_count": 23,
   "metadata": {},
   "outputs": [
    {
     "data": {
      "text/plain": [
       "{'Maxime': (0.1, 0.1),\n",
       " 'Timotuc': (2, 2),\n",
       " 'bureaucrate': (0.2, 0.3),\n",
       " 'moyen': (0.5, 0.5),\n",
       " 'professionnel': (0.8, 0.9)}"
      ]
     },
     "execution_count": 23,
     "metadata": {},
     "output_type": "execute_result"
    }
   ],
   "source": [
    "nouveau_humain(\"Timotuc\",2,2)"
   ]
  },
  {
   "cell_type": "markdown",
   "metadata": {},
   "source": [
    "# Modélisation/déplacements"
   ]
  },
  {
   "cell_type": "markdown",
   "metadata": {},
   "source": [
    "Retourne la modélisation graphique (en couleur) de la matrice correspondant à un biome"
   ]
  },
  {
   "cell_type": "code",
   "execution_count": 24,
   "metadata": {},
   "outputs": [],
   "source": [
    "def generation_matrice(taille,p_e,nb_pred):\n",
    "    \n",
    "\n",
    "    #Création d'une matrice carré, représentant l'environnement, couleurs définies en fonction de la quantité d'eau\n",
    "    # dans le biome.\n",
    "    matrice=np.zeros((taille,taille))\n",
    "    if p_e<0.4:\n",
    "        couleur=0\n",
    "    else:\n",
    "        couleur=-3\n",
    "    for i in range(0,taille):\n",
    "        for j in range(0,taille):\n",
    "            if matrice[i,j]==0:\n",
    "                rand = np.random.random_sample()\n",
    "                if rand<0.34:\n",
    "                    matrice[i,j]=couleur-2\n",
    "                elif rand<0.67:\n",
    "                    matrice[i,j]=couleur-1\n",
    "                else:\n",
    "                    matrice[i,j]=couleur\n",
    "    \n",
    "    #Ajout des prédateurs et de l'humain à la matrice.\n",
    "    \n",
    "    nb_pre=nb_pred*taille//10\n",
    "    #L_inter:list[int,int,int]\n",
    "    L_inter=[]\n",
    "    #L_positions:list[list[int,int,int]]\n",
    "    L_positions=[]\n",
    "    \n",
    "    #nb_pre_fi:int\n",
    "    nb_pre_fi=nb_pre\n",
    "    \n",
    "    #i:int\n",
    "    i=0\n",
    "    hor=-1\n",
    "    ver=0\n",
    "    while i<nb_pre_fi:\n",
    "        if hor<2:\n",
    "            hor=hor+1\n",
    "        else:\n",
    "            hor=0\n",
    "            if ver<2:\n",
    "                ver=ver+1\n",
    "            else:\n",
    "                ver=0\n",
    "        if hor!=1 or ver!=1:\n",
    "            cori=np.random.randint(hor*(taille/3),(hor+1)*(taille/3))\n",
    "            corj=np.random.randint(ver*(taille/3),(ver+1)*(taille/3))\n",
    "            L_positions.append((-10-i,cori,corj))\n",
    "            i=i+1\n",
    "    \n",
    "    return matrice,L_positions"
   ]
  },
  {
   "cell_type": "code",
   "execution_count": 25,
   "metadata": {},
   "outputs": [
    {
     "data": {
      "text/plain": [
       "(array([[-3., -3., -3., -5., -3., -4., -3., -4., -5., -3., -3., -3., -4.,\n",
       "         -4., -5., -4., -5., -5., -5., -3., -3., -3., -4., -4., -4., -4.,\n",
       "         -4., -5., -5., -3.],\n",
       "        [-5., -3., -5., -5., -5., -4., -4., -3., -4., -5., -4., -3., -4.,\n",
       "         -4., -4., -4., -3., -4., -5., -5., -4., -5., -4., -3., -3., -3.,\n",
       "         -5., -3., -5., -4.],\n",
       "        [-3., -4., -3., -4., -4., -5., -5., -4., -4., -4., -5., -5., -3.,\n",
       "         -5., -3., -5., -3., -4., -4., -5., -5., -4., -3., -3., -4., -4.,\n",
       "         -3., -3., -4., -3.],\n",
       "        [-5., -5., -4., -4., -5., -4., -4., -3., -3., -4., -3., -5., -5.,\n",
       "         -3., -5., -3., -5., -5., -5., -3., -3., -3., -4., -4., -4., -3.,\n",
       "         -4., -3., -3., -3.],\n",
       "        [-4., -4., -4., -4., -4., -5., -3., -4., -5., -3., -3., -4., -3.,\n",
       "         -3., -3., -5., -5., -4., -5., -4., -5., -4., -4., -3., -3., -3.,\n",
       "         -3., -5., -5., -3.],\n",
       "        [-3., -4., -3., -4., -4., -4., -4., -4., -5., -5., -3., -5., -3.,\n",
       "         -4., -5., -3., -4., -5., -4., -4., -3., -4., -3., -5., -5., -4.,\n",
       "         -5., -4., -3., -4.],\n",
       "        [-4., -3., -4., -4., -5., -4., -4., -5., -4., -4., -4., -3., -4.,\n",
       "         -3., -4., -4., -5., -3., -5., -5., -4., -4., -5., -3., -3., -5.,\n",
       "         -4., -4., -4., -3.],\n",
       "        [-3., -3., -5., -5., -4., -5., -3., -4., -4., -3., -3., -5., -5.,\n",
       "         -4., -5., -3., -5., -3., -5., -4., -5., -5., -4., -3., -3., -4.,\n",
       "         -4., -5., -5., -3.],\n",
       "        [-5., -4., -5., -3., -3., -3., -4., -3., -4., -5., -5., -3., -3.,\n",
       "         -4., -5., -5., -4., -5., -4., -3., -5., -5., -5., -4., -4., -5.,\n",
       "         -5., -3., -5., -4.],\n",
       "        [-3., -4., -5., -4., -4., -3., -5., -4., -5., -4., -4., -3., -5.,\n",
       "         -4., -3., -4., -5., -5., -4., -5., -5., -3., -3., -5., -4., -4.,\n",
       "         -5., -4., -3., -5.],\n",
       "        [-4., -5., -5., -3., -4., -3., -3., -4., -4., -5., -5., -4., -3.,\n",
       "         -3., -3., -5., -3., -4., -3., -4., -5., -4., -5., -3., -3., -5.,\n",
       "         -4., -5., -3., -5.],\n",
       "        [-4., -3., -5., -5., -5., -5., -3., -5., -4., -3., -3., -3., -4.,\n",
       "         -3., -3., -4., -3., -3., -4., -5., -3., -3., -4., -3., -5., -5.,\n",
       "         -5., -5., -5., -4.],\n",
       "        [-5., -4., -4., -5., -3., -4., -5., -5., -4., -5., -5., -3., -5.,\n",
       "         -5., -4., -3., -4., -5., -3., -4., -3., -5., -4., -5., -3., -5.,\n",
       "         -3., -5., -4., -5.],\n",
       "        [-5., -5., -3., -5., -3., -5., -5., -3., -4., -3., -4., -4., -4.,\n",
       "         -3., -4., -3., -4., -4., -5., -4., -4., -4., -4., -5., -4., -5.,\n",
       "         -5., -4., -4., -4.],\n",
       "        [-4., -5., -4., -3., -4., -4., -3., -3., -3., -4., -4., -3., -4.,\n",
       "         -5., -3., -3., -5., -3., -5., -4., -4., -4., -3., -4., -5., -5.,\n",
       "         -5., -4., -5., -4.],\n",
       "        [-4., -5., -3., -5., -4., -3., -4., -5., -4., -3., -4., -3., -5.,\n",
       "         -3., -4., -5., -4., -5., -5., -5., -4., -4., -4., -3., -3., -4.,\n",
       "         -4., -3., -3., -4.],\n",
       "        [-5., -5., -5., -5., -3., -3., -3., -4., -5., -5., -3., -3., -5.,\n",
       "         -3., -3., -4., -4., -3., -4., -3., -5., -3., -4., -5., -4., -5.,\n",
       "         -5., -5., -3., -3.],\n",
       "        [-4., -5., -5., -5., -3., -4., -5., -3., -3., -3., -5., -4., -5.,\n",
       "         -5., -4., -5., -5., -4., -3., -3., -4., -5., -4., -4., -3., -4.,\n",
       "         -4., -5., -5., -4.],\n",
       "        [-5., -3., -4., -5., -4., -5., -5., -4., -4., -5., -4., -3., -4.,\n",
       "         -5., -4., -3., -5., -4., -4., -5., -5., -3., -4., -3., -4., -4.,\n",
       "         -5., -4., -3., -4.],\n",
       "        [-3., -5., -5., -3., -5., -3., -5., -3., -4., -3., -5., -4., -5.,\n",
       "         -4., -5., -4., -5., -5., -4., -5., -3., -5., -4., -3., -5., -5.,\n",
       "         -4., -5., -4., -3.],\n",
       "        [-3., -5., -4., -3., -5., -5., -4., -5., -5., -4., -3., -3., -5.,\n",
       "         -3., -4., -4., -4., -3., -5., -4., -5., -3., -5., -3., -3., -5.,\n",
       "         -5., -5., -4., -3.],\n",
       "        [-3., -3., -5., -5., -4., -4., -5., -5., -4., -5., -5., -5., -5.,\n",
       "         -4., -4., -3., -3., -5., -5., -5., -4., -4., -3., -5., -5., -5.,\n",
       "         -3., -5., -5., -5.],\n",
       "        [-5., -3., -3., -3., -5., -5., -3., -5., -5., -5., -5., -4., -4.,\n",
       "         -4., -4., -5., -4., -4., -5., -4., -5., -4., -4., -5., -5., -4.,\n",
       "         -4., -4., -5., -3.],\n",
       "        [-5., -3., -5., -3., -4., -5., -4., -4., -5., -4., -3., -4., -3.,\n",
       "         -5., -5., -4., -3., -5., -4., -5., -4., -5., -5., -3., -3., -4.,\n",
       "         -5., -3., -3., -4.],\n",
       "        [-3., -3., -4., -3., -4., -3., -3., -4., -5., -3., -4., -5., -4.,\n",
       "         -5., -4., -5., -4., -5., -3., -5., -3., -5., -3., -4., -5., -3.,\n",
       "         -5., -4., -3., -3.],\n",
       "        [-5., -4., -4., -4., -5., -3., -3., -3., -3., -5., -5., -4., -4.,\n",
       "         -3., -3., -4., -5., -5., -4., -5., -3., -5., -4., -5., -4., -4.,\n",
       "         -5., -4., -4., -3.],\n",
       "        [-4., -4., -5., -4., -3., -5., -5., -5., -3., -4., -5., -3., -3.,\n",
       "         -3., -3., -5., -4., -5., -4., -3., -5., -3., -4., -3., -4., -4.,\n",
       "         -5., -4., -5., -5.],\n",
       "        [-3., -5., -4., -5., -3., -3., -4., -3., -4., -3., -5., -3., -4.,\n",
       "         -4., -3., -3., -5., -3., -5., -4., -3., -4., -5., -5., -3., -4.,\n",
       "         -3., -5., -5., -4.],\n",
       "        [-4., -4., -5., -3., -4., -5., -4., -5., -4., -3., -3., -5., -4.,\n",
       "         -5., -4., -5., -3., -3., -5., -5., -3., -3., -5., -5., -4., -5.,\n",
       "         -3., -3., -4., -5.],\n",
       "        [-3., -4., -4., -3., -4., -4., -5., -5., -5., -4., -3., -5., -5.,\n",
       "         -4., -4., -4., -5., -4., -3., -3., -4., -5., -4., -5., -5., -4.,\n",
       "         -5., -5., -5., -4.]]),\n",
       " [(-10, 3, 1),\n",
       "  (-11, 10, 0),\n",
       "  (-12, 24, 5),\n",
       "  (-13, 8, 18),\n",
       "  (-14, 24, 10),\n",
       "  (-15, 0, 20),\n",
       "  (-16, 16, 21),\n",
       "  (-17, 27, 28),\n",
       "  (-18, 2, 0),\n",
       "  (-19, 17, 6),\n",
       "  (-20, 22, 4),\n",
       "  (-21, 9, 18),\n",
       "  (-22, 22, 14),\n",
       "  (-23, 0, 26),\n",
       "  (-24, 18, 24)])"
      ]
     },
     "execution_count": 25,
     "metadata": {},
     "output_type": "execute_result"
    }
   ],
   "source": [
    "generation_matrice(30,0.4,5)"
   ]
  },
  {
   "cell_type": "code",
   "execution_count": 26,
   "metadata": {},
   "outputs": [],
   "source": [
    "def dessin(mat,L):\n",
    "    \n",
    "    for i in range(0,len(L)):\n",
    "        num,cori,corj=L[i]\n",
    "        mat[cori,corj]=num\n",
    "        \n",
    "    cmap = colors.ListedColormap(['red','black','yellowgreen','limegreen', 'olive', 'orange','darkorange',\n",
    "                                  'goldenrod','blue','black'])\n",
    "    bounds = [-10,-6,-5,-4, -3, -2, -1, 0, 1,2]\n",
    "    norm = colors.BoundaryNorm(bounds, cmap.N)\n",
    "    print(cmap,bounds,norm)\n",
    "\n",
    "    fig = plt.figure()\n",
    "\n",
    "    frame = plt.gca()\n",
    "    frame.axes.get_xaxis().set_visible(False)\n",
    "    frame.axes.get_yaxis().set_visible(False)\n",
    "\n",
    "    grid = plt.imshow(mat, interpolation='nearest', cmap=cmap,\n",
    "                          norm=norm)\n",
    "\n",
    "    \n",
    "    \n",
    "    plt.show()"
   ]
  },
  {
   "cell_type": "code",
   "execution_count": 27,
   "metadata": {},
   "outputs": [
    {
     "data": {
      "text/plain": [
       "array([[-2., -1., -1., -2.,  0., -2.,  0., -1., -1., -2., -1., -2., -2.],\n",
       "       [-2., -2., -2., -2., -2.,  0.,  0., -2., -2., -2.,  0., -1., -1.],\n",
       "       [-1., -1., -2., -2., -1., -2., -1., -2., -2., -2., -1.,  0., -2.],\n",
       "       [-1.,  0., -1., -2., -2., -2.,  0., -2., -1., -2.,  0.,  0.,  0.],\n",
       "       [-1.,  0., -2., -2., -2., -2.,  0.,  0., -2., -2., -2., -1., -1.],\n",
       "       [-1., -1.,  0., -1., -2., -1., -2., -1., -1., -1.,  0., -2.,  0.],\n",
       "       [ 0., -1., -2., -1.,  0.,  0., -2.,  0.,  0.,  0., -1., -2., -2.],\n",
       "       [-2.,  0., -1., -2., -1., -1.,  0.,  0.,  0., -2., -2., -1.,  0.],\n",
       "       [-2.,  0.,  0.,  0., -2., -2., -2.,  0., -2., -2., -2.,  0., -1.],\n",
       "       [-1., -2.,  0., -1., -1., -1.,  0., -2., -1., -1., -1., -2., -2.],\n",
       "       [ 0., -2., -1., -2., -1., -2., -2., -1.,  0., -2., -2., -2., -2.],\n",
       "       [-1., -2., -1.,  0.,  0.,  0., -2., -1.,  0., -2.,  0., -1., -2.],\n",
       "       [-1., -2., -2., -2.,  0., -1., -2., -1., -2., -2.,  0., -1., -1.]])"
      ]
     },
     "execution_count": 27,
     "metadata": {},
     "output_type": "execute_result"
    }
   ],
   "source": [
    "mattest,L=generation_matrice(13,0.1,460)\n",
    "mattest"
   ]
  },
  {
   "cell_type": "code",
   "execution_count": 28,
   "metadata": {},
   "outputs": [
    {
     "name": "stdout",
     "output_type": "stream",
     "text": [
      "<matplotlib.colors.ListedColormap object at 0x0000028EF73C7BE0> [-10, -6, -5, -4, -3, -2, -1, 0, 1, 2] <matplotlib.colors.BoundaryNorm object at 0x0000028EF73C75C0>\n"
     ]
    },
    {
     "data": {
      "image/png": "[encoded data removed]",
      "text/plain": [
       "<matplotlib.figure.Figure at 0x28ef73c7240>"
      ]
     },
     "metadata": {},
     "output_type": "display_data"
    }
   ],
   "source": [
    "matt,L=generation_matrice(30,0.4,5)\n",
    "dessin(matt,L)"
   ]
  },
  {
   "cell_type": "code",
   "execution_count": 29,
   "metadata": {},
   "outputs": [
    {
     "data": {
      "text/plain": [
       "5"
      ]
     },
     "execution_count": 29,
     "metadata": {},
     "output_type": "execute_result"
    }
   ],
   "source": [
    "dicti={}\n",
    "dicti[(1,2)]=(5)\n",
    "dicti[(1,2)]"
   ]
  },
  {
   "cell_type": "markdown",
   "metadata": {},
   "source": [
    "Retourne la nouvelle position des agents"
   ]
  },
  {
   "cell_type": "code",
   "execution_count": 30,
   "metadata": {},
   "outputs": [
    {
     "data": {
      "text/plain": [
       "'def carto(chanzon,mat,nbdep):\\n    \\n    #i:int\\n    #j:int\\n    borne=10\\n    ha,ga,ba,da=True,True,True,True\\n    suii=0\\n    suij=0   \\n    nbdep=nbdep+1\\n    for i in range(0,borne+1):\\n        for j in range(0,borne+1):\\n            if mat[i,j]==1:\\n                poshj=j\\n                poshi=i\\n            if mat[i,j]==-1:\\n                pospi=i\\n                pospj=j\\n    borpi=2\\n    borpj=2\\n    if pospi==borne:\\n        borpi=1\\n    if pospj==borne:\\n        borpj=1\\n    borhi=2\\n    borhj=2\\n    if poshi==borne:\\n        borhi=1\\n    if poshj==borne:\\n        borhj=1\\n    if chanzon == True:\\n        a=0\\n        while a==0:\\n            n=(np.random.random_sample()*8)//2\\n            if n>=2.9 and n<=3.1 and poshj!=0:\\n                if mat[poshi,poshj-1]<2:\\n                    mat[poshi,poshj]=nbdep\\n                    mat[poshi,poshj-1]=1\\n                    a=1\\n            elif n>=1.9 and n<=2.1 and poshi!=borne :\\n                if mat[poshi+1,poshj]<2:\\n                    mat[poshi,poshj]=nbdep\\n                    mat[poshi+1,poshj]=1\\n                    a=1\\n            elif n>=0.9 and n<=1.1 and poshj!=borne:\\n                if mat[poshi,poshj+1]<2:\\n                    mat[poshi,poshj]=nbdep\\n                    mat[poshi,poshj+1]=1\\n                    a=1\\n            elif n>=-0.1 and n<=0.1 and poshi!=0:\\n                if mat[poshi-1,poshj]<2:\\n                    mat[poshi,poshj]=nbdep\\n                    mat[poshi-1,poshj]=1\\n                    a=1\\n            \\n            if poshi!=0:\\n                if mat[poshi-1,poshj]>0 or mat[poshi-1,poshj]==-3:\\n                    ha=False\\n            else:\\n                ha=False\\n            if poshj!=0:\\n                if mat[poshi,poshj-1]>0 or mat[poshi,poshj-1]==-3:\\n                    ga=False\\n            else:\\n                ga=False\\n            if poshj!=borne:\\n                if mat[poshi,poshj+1]>0 or mat[poshi,poshj+1]==-3:\\n                    da=False\\n            else:\\n                da=False\\n            if poshi!=borne:\\n                if mat[poshi+1,poshj]>0 or mat[poshi+1,poshj]==-3:\\n                    ba=False\\n            else:\\n                ba=False\\n                \\n            if ba==False and ha==False and da==False and ga==False:\\n                suivi=10000\\n                for i in range(poshi-1,poshi+borhi):\\n                    for j in range(poshj-1,poshj+borhj):\\n                        if mat[i,j]<suivi and i>=0 and i<=borne and j<=borne and j>=0 and mat[i,j]!=1:\\n                            suivi=mat[i,j]\\n                            suii=i\\n                            suij=j\\n                mat[poshi,poshj]=nbdep\\n                mat[suii,suij]=1\\n                a=1\\n    \\n    \\n\\n\\n        suivi=0\\n        traque=False\\n        combat=False\\n        \\n        for i in range(pospi-1,pospi+borpi):\\n            for j in range(pospj-1,pospj+borpj):\\n                if mat[i,j]!=0 and mat[i,j]!=-1 :\\n                    print(i,j)\\n                    if i>=0 and i<=borne and j<=borne and j>=0:\\n                        traque=True\\n                        if mat[i,j]==1:\\n                            combat= True\\n                        elif mat[i,j]>suivi:\\n                            suivi=mat[i,j]\\n                            suii=i\\n                            suij=j\\n                            visite=True\\n                if mat[i,j]==1 and i>=0 and i<=borne and j<=borne and j>=0:\\n                    combat= True\\n                    mat[i,j]=100000\\n        if traque==True and combat==False:\\n            if visite==True:\\n                mat[pospi,pospj]=-3\\n            else:\\n                mat[pospi,pospj]=0\\n            pospi=suii\\n            pospj=suij\\n            mat[pospi,pospj]=-1\\n        if traque==False and combat==False:\\n            a=0\\n            while a==0:\\n                n=(np.random.random_sample()*8)//2\\n                if n>=3 and pospj!=0 :\\n\\n                    mat[pospi,pospj]=0\\n                    mat[pospi,pospj-1]=-1\\n                    a=1\\n                elif n>=2 and pospi!=borne :\\n\\n                    mat[pospi,pospj]=0\\n                    mat[pospi+1,pospj]=-1\\n                    a=1\\n                elif n>=1 and pospj!=borne:\\n\\n                    mat[pospi,pospj]=0\\n                    mat[pospi,pospj+1]=-1\\n                    a=1\\n                elif n>=0 and pospi!=0 :\\n\\n                    mat[pospi,pospj]=0\\n                    mat[pospi-1,pospj]=-1\\n                    a=1\\n        for i in range (0,borne+1):\\n            for j in range(0,borne+1):\\n                if mat[i,j]>1 and mat[i,j]<nbdep-15:\\n                    mat[i,j]=-3\\n    dessin(mat)\\n    return mat'"
      ]
     },
     "execution_count": 30,
     "metadata": {},
     "output_type": "execute_result"
    }
   ],
   "source": [
    "\"\"\"def carto(chanzon,mat,nbdep):\n",
    "    \n",
    "    #i:int\n",
    "    #j:int\n",
    "    borne=10\n",
    "    ha,ga,ba,da=True,True,True,True\n",
    "    suii=0\n",
    "    suij=0   \n",
    "    nbdep=nbdep+1\n",
    "    for i in range(0,borne+1):\n",
    "        for j in range(0,borne+1):\n",
    "            if mat[i,j]==1:\n",
    "                poshj=j\n",
    "                poshi=i\n",
    "            if mat[i,j]==-1:\n",
    "                pospi=i\n",
    "                pospj=j\n",
    "    borpi=2\n",
    "    borpj=2\n",
    "    if pospi==borne:\n",
    "        borpi=1\n",
    "    if pospj==borne:\n",
    "        borpj=1\n",
    "    borhi=2\n",
    "    borhj=2\n",
    "    if poshi==borne:\n",
    "        borhi=1\n",
    "    if poshj==borne:\n",
    "        borhj=1\n",
    "    if chanzon == True:\n",
    "        a=0\n",
    "        while a==0:\n",
    "            n=(np.random.random_sample()*8)//2\n",
    "            if n>=2.9 and n<=3.1 and poshj!=0:\n",
    "                if mat[poshi,poshj-1]<2:\n",
    "                    mat[poshi,poshj]=nbdep\n",
    "                    mat[poshi,poshj-1]=1\n",
    "                    a=1\n",
    "            elif n>=1.9 and n<=2.1 and poshi!=borne :\n",
    "                if mat[poshi+1,poshj]<2:\n",
    "                    mat[poshi,poshj]=nbdep\n",
    "                    mat[poshi+1,poshj]=1\n",
    "                    a=1\n",
    "            elif n>=0.9 and n<=1.1 and poshj!=borne:\n",
    "                if mat[poshi,poshj+1]<2:\n",
    "                    mat[poshi,poshj]=nbdep\n",
    "                    mat[poshi,poshj+1]=1\n",
    "                    a=1\n",
    "            elif n>=-0.1 and n<=0.1 and poshi!=0:\n",
    "                if mat[poshi-1,poshj]<2:\n",
    "                    mat[poshi,poshj]=nbdep\n",
    "                    mat[poshi-1,poshj]=1\n",
    "                    a=1\n",
    "            \n",
    "            if poshi!=0:\n",
    "                if mat[poshi-1,poshj]>0 or mat[poshi-1,poshj]==-3:\n",
    "                    ha=False\n",
    "            else:\n",
    "                ha=False\n",
    "            if poshj!=0:\n",
    "                if mat[poshi,poshj-1]>0 or mat[poshi,poshj-1]==-3:\n",
    "                    ga=False\n",
    "            else:\n",
    "                ga=False\n",
    "            if poshj!=borne:\n",
    "                if mat[poshi,poshj+1]>0 or mat[poshi,poshj+1]==-3:\n",
    "                    da=False\n",
    "            else:\n",
    "                da=False\n",
    "            if poshi!=borne:\n",
    "                if mat[poshi+1,poshj]>0 or mat[poshi+1,poshj]==-3:\n",
    "                    ba=False\n",
    "            else:\n",
    "                ba=False\n",
    "                \n",
    "            if ba==False and ha==False and da==False and ga==False:\n",
    "                suivi=10000\n",
    "                for i in range(poshi-1,poshi+borhi):\n",
    "                    for j in range(poshj-1,poshj+borhj):\n",
    "                        if mat[i,j]<suivi and i>=0 and i<=borne and j<=borne and j>=0 and mat[i,j]!=1:\n",
    "                            suivi=mat[i,j]\n",
    "                            suii=i\n",
    "                            suij=j\n",
    "                mat[poshi,poshj]=nbdep\n",
    "                mat[suii,suij]=1\n",
    "                a=1\n",
    "    \n",
    "    \n",
    "\n",
    "\n",
    "        suivi=0\n",
    "        traque=False\n",
    "        combat=False\n",
    "        \n",
    "        for i in range(pospi-1,pospi+borpi):\n",
    "            for j in range(pospj-1,pospj+borpj):\n",
    "                if mat[i,j]!=0 and mat[i,j]!=-1 :\n",
    "                    print(i,j)\n",
    "                    if i>=0 and i<=borne and j<=borne and j>=0:\n",
    "                        traque=True\n",
    "                        if mat[i,j]==1:\n",
    "                            combat= True\n",
    "                        elif mat[i,j]>suivi:\n",
    "                            suivi=mat[i,j]\n",
    "                            suii=i\n",
    "                            suij=j\n",
    "                            visite=True\n",
    "                if mat[i,j]==1 and i>=0 and i<=borne and j<=borne and j>=0:\n",
    "                    combat= True\n",
    "                    mat[i,j]=100000\n",
    "        if traque==True and combat==False:\n",
    "            if visite==True:\n",
    "                mat[pospi,pospj]=-3\n",
    "            else:\n",
    "                mat[pospi,pospj]=0\n",
    "            pospi=suii\n",
    "            pospj=suij\n",
    "            mat[pospi,pospj]=-1\n",
    "        if traque==False and combat==False:\n",
    "            a=0\n",
    "            while a==0:\n",
    "                n=(np.random.random_sample()*8)//2\n",
    "                if n>=3 and pospj!=0 :\n",
    "\n",
    "                    mat[pospi,pospj]=0\n",
    "                    mat[pospi,pospj-1]=-1\n",
    "                    a=1\n",
    "                elif n>=2 and pospi!=borne :\n",
    "\n",
    "                    mat[pospi,pospj]=0\n",
    "                    mat[pospi+1,pospj]=-1\n",
    "                    a=1\n",
    "                elif n>=1 and pospj!=borne:\n",
    "\n",
    "                    mat[pospi,pospj]=0\n",
    "                    mat[pospi,pospj+1]=-1\n",
    "                    a=1\n",
    "                elif n>=0 and pospi!=0 :\n",
    "\n",
    "                    mat[pospi,pospj]=0\n",
    "                    mat[pospi-1,pospj]=-1\n",
    "                    a=1\n",
    "        for i in range (0,borne+1):\n",
    "            for j in range(0,borne+1):\n",
    "                if mat[i,j]>1 and mat[i,j]<nbdep-15:\n",
    "                    mat[i,j]=-3\n",
    "    dessin(mat)\n",
    "    return mat\"\"\"\n",
    "        "
   ]
  },
  {
   "cell_type": "code",
   "execution_count": 31,
   "metadata": {},
   "outputs": [],
   "source": [
    "def deplacements(chang,L_pos,taille):\n",
    "    \n",
    "    taille=taille-1\n",
    "    #nb_pre:int\n",
    "    nb_pre=0\n",
    "    Combat=False\n",
    "    #i:int\n",
    "    for i in range (0,len(L_pos)):\n",
    "        num,x,y = L_pos [i]\n",
    "        print(num,x,y)\n",
    "        if num <= -10:\n",
    "            \n",
    "            #e:int,fin:int // flag\n",
    "            e=0\n",
    "            fin=1\n",
    "            #xf,yf:int*int //flag\n",
    "            xf=0\n",
    "            yf=0\n",
    "            for j in range (0,len(L_pos)):\n",
    "                numt,xt,yt = L_pos [i]\n",
    "                if xt==x+1 or xt==x or xt==x-1:\n",
    "                    if yt == y+1 or yt == y or yt == y-1:\n",
    "                        if numt == 1:\n",
    "                            x=xt\n",
    "                            y=yt\n",
    "                            fin=0\n",
    "                        if numt > 1:\n",
    "                            if e<numt:\n",
    "                                e=numt\n",
    "                                xf=xt\n",
    "                                yf=yt\n",
    "                                fin=2\n",
    "            if j!=0 and fin==0:\n",
    "                x=xf\n",
    "                y=yf\n",
    "            print(num,x,y)\n",
    "            if fin==1:\n",
    "                a=0\n",
    "                while a==0:\n",
    "                    n=(np.random.random_sample()*8)//2\n",
    "                    if n>=3 and y!=0:\n",
    "                        y=y-1\n",
    "                        a=1\n",
    "                    elif n>=2 and x!=taille:\n",
    "                        x=x+1\n",
    "                        a=1\n",
    "                    elif n>=1 and y!=taille:\n",
    "                        y=y+1\n",
    "                        a=1\n",
    "                    elif n>=0 and x!=0:\n",
    "                        x=x-1\n",
    "                        a=1\n",
    "            L_pos[i]=num,x,y\n",
    "            \n",
    "        if num==1:\n",
    "            if chang==True:\n",
    "                for j in range (0,len(L_pos)):\n",
    "                    numt,xt,yt=L_pos[j]\n",
    "                    dictitemp={}\n",
    "                    dictitemp[(xt,yt)]=(numt)\n",
    "                a=0\n",
    "                while a==0:\n",
    "                    n=(np.random.random_sample()*8)//2\n",
    "                    if n>=2.9 and n<=3.1 and y!=0:\n",
    "                        if dictitemp[(xt,yt-1)]<2:\n",
    "                            L_pos[i]=(2,x,y)\n",
    "                            y=y-1\n",
    "                            L_pos.append(1,x,y)\n",
    "                            a=1                                 \n",
    "                                    \n",
    "                    elif n>=1.9 and n<=2.1 and x!=taille:\n",
    "                        if dictitemp[(xt+1,yt)]<2:\n",
    "                            L_pos[i]=(2,x,y)\n",
    "                            x=x+1\n",
    "                            L_pos.append(1,x,y)\n",
    "                            a=1\n",
    "                            \n",
    "                    elif n>=0.9 and n<=1.1 and y!=taille:\n",
    "                        if dictitemp[(xt,yt+1)]<2:\n",
    "                            L_pos[i]=(2,x,y)\n",
    "                            y=y+1\n",
    "                            L_pos.append(1,x,y)\n",
    "                            a=1\n",
    "                    elif n>=-0.1 and n<=0.1 and x!=0:\n",
    "                        if dictitemp[(xt-1,yt)]<2:\n",
    "                            L_pos[i]=(2,x,y)\n",
    "                            x=x-1\n",
    "                            L_pos.append(1,x,y)\n",
    "                            a=1\n",
    "            \n",
    "                    if x!=0:\n",
    "                        if dictitemp[(x-1,y)]>=2:\n",
    "                            ha=False\n",
    "                    else:\n",
    "                        ha=False\n",
    "                    if y!=0:\n",
    "                        if dictitemp[(x,y-1)]>=2:\n",
    "                            ga=False\n",
    "                    else:\n",
    "                        ga=False\n",
    "                    if y!=taille:\n",
    "                        if dictitemp[(x,y+1)]>=2:\n",
    "                            da=False\n",
    "                    else:\n",
    "                        da=False\n",
    "                    if x!=taille:\n",
    "                        if dictitemp[(x+1,y)]>=2:\n",
    "                            ba=False\n",
    "                    else:\n",
    "                        ba=False\n",
    "            for k in range (0,len(L_pos)):\n",
    "                numf,xf,yf=L_pos[k]\n",
    "                if xf==x and yf==y and numf<=-10:\n",
    "                    Combat=True\n",
    "                    \n",
    "                        \n",
    "    \n",
    "    \n",
    "    return L_pos,Combat"
   ]
  },
  {
   "cell_type": "code",
   "execution_count": 32,
   "metadata": {},
   "outputs": [],
   "source": [
    "def simul_depla(matric,L,change,taille):\n",
    "    \n",
    "    L , Combat = deplacements(change,L,taille)\n",
    "    dessin(matric,L)\n",
    "    return L,Combat"
   ]
  },
  {
   "cell_type": "code",
   "execution_count": 33,
   "metadata": {},
   "outputs": [
    {
     "name": "stdout",
     "output_type": "stream",
     "text": [
      "-10 0 9\n",
      "-10 0 9\n",
      "-11 0 0\n",
      "-11 0 0\n",
      "-12 9 0\n",
      "-12 9 0\n"
     ]
    },
    {
     "data": {
      "text/plain": [
       "([(-10, 0, 8), (-11, 0, 1), (-12, 9, 1)], False)"
      ]
     },
     "execution_count": 33,
     "metadata": {},
     "output_type": "execute_result"
    }
   ],
   "source": [
    "L=[(-10,0,9),(-11,0,0),(-12,9,0)]\n",
    "deplacements(True,L,10)"
   ]
  },
  {
   "cell_type": "code",
   "execution_count": 34,
   "metadata": {
    "scrolled": true
   },
   "outputs": [
    {
     "ename": "NameError",
     "evalue": "name 'carto' is not defined",
     "output_type": "error",
     "traceback": [
      "\u001b[1;31m---------------------------------------------------------------------------\u001b[0m",
      "\u001b[1;31mNameError\u001b[0m                                 Traceback (most recent call last)",
      "\u001b[1;32m<ipython-input-34-a47173ac9950>\u001b[0m in \u001b[0;36m<module>\u001b[1;34m()\u001b[0m\n\u001b[1;32m----> 1\u001b[1;33m \u001b[0mcarto\u001b[0m\u001b[1;33m(\u001b[0m\u001b[1;32mTrue\u001b[0m\u001b[1;33m,\u001b[0m \u001b[0mmatrice1\u001b[0m\u001b[1;33m,\u001b[0m\u001b[1;36m34\u001b[0m\u001b[1;33m)\u001b[0m\u001b[1;33m\u001b[0m\u001b[0m\n\u001b[0m",
      "\u001b[1;31mNameError\u001b[0m: name 'carto' is not defined"
     ]
    }
   ],
   "source": [
    "carto(True, matrice1,34)"
   ]
  },
  {
   "cell_type": "code",
   "execution_count": null,
   "metadata": {
    "scrolled": false
   },
   "outputs": [],
   "source": [
    "b=0\n",
    "c=0\n",
    "while b<3:\n",
    "    b=b+1\n",
    "    a=carto(True,a,b)\n",
    "    if c==1:\n",
    "        time.sleep(1)"
   ]
  },
  {
   "cell_type": "markdown",
   "metadata": {},
   "source": [
    "# Simulations"
   ]
  },
  {
   "cell_type": "markdown",
   "metadata": {},
   "source": [
    "Boucle principale, retourne le nombre de jours survécus par l'agent"
   ]
  },
  {
   "cell_type": "code",
   "execution_count": 52,
   "metadata": {},
   "outputs": [],
   "source": [
    "\n",
    "\n",
    "def simulation_survie(agent,biome,predateur,taille):\n",
    "    \"\"\"str*str*dict[str:tuple[float,float]]*dict[str:tuple[float,float,int,float,float,float]] -> int \"\"\"\n",
    "    \n",
    "    #c : cause de la fin\n",
    "    c = \"\"\n",
    "    #j : compteur jour\n",
    "    j = 0\n",
    "    #jour_r:float\n",
    "    jour_r=-10\n",
    "    #abri:bool\n",
    "    abri=False\n",
    "    #sauve:bool\n",
    "    sauve=False\n",
    "    #sourceinf:bool\n",
    "    source_inf=False\n",
    "    #sante:float\n",
    "    sante=1.0\n",
    "    #hydrat:float\n",
    "    hydrat=1.0\n",
    "    #alimentation:float\n",
    "    alimentation=1.0\n",
    "    #alimentation_p:float\n",
    "    alimentation_p=1.0\n",
    "    #hydrat_p:float\n",
    "    hydrat_p=1.0\n",
    "    #sante_p:float\n",
    "    sante_p=1.0\n",
    "    \n",
    "    #Lsante:list[float]\n",
    "    Lsante=[]\n",
    "    Leau=[]\n",
    "    \n",
    "\n",
    "    dang_p = dictionnaire_predateur[predateur]\n",
    "    force , capadap = dictionnaire_humain[agent]\n",
    "    p_a , nb_p, veg , p_e , p_v , p_s = dictionnaire_biome[biome]\n",
    "    vegr=veg\n",
    "    p_s_ini = p_s\n",
    "    p_s_10=p_s\n",
    "    \n",
    "    \n",
    "    matrice, L_pos = generation_matrice (taille, p_e, nb_p)\n",
    "    \n",
    "    \n",
    "    \n",
    "    while sante > 0 and sauve != True:\n",
    "\n",
    "        chang=False\n",
    "        jour_r , abri , sauve , source_inf = construction_abri(capadap , source_inf , vegr , veg , p_v , jour_r , abri)\n",
    "        \n",
    "        if jour_r==0:\n",
    "            chang=True\n",
    "        \n",
    "        sourceinf , hydrat  = trouver_eau(p_e , capadap , source_inf , hydrat)\n",
    "        \n",
    "        #alimentation , sante , c  = inter_anim(p_a, force, capadap, alimentation, sante, c)\n",
    "        \n",
    "        \n",
    "        \n",
    "        \n",
    "        if c != \"\":\n",
    "            print(model(j,Lsante),Lsante)\n",
    "            return j, c,sante\n",
    "        \n",
    "        alimentation , vegr = inter_veget(veg,alimentation,capadap,vegr)\n",
    "        \n",
    "        sante , alimentation , hydrat , force , c = sante_fct_hydr_alim(alimentation, hydrat, sante,abri,force,c)\n",
    "        \n",
    "        sauve , p_s = secouru (p_s,j,p_s_ini,p_s_10)\n",
    "        \n",
    "        #alimentation_p,hydrat_p = nourriture_p(p_a, alimentation_p, p_e, hydrat_p)\n",
    "        \n",
    "        alimentation_p, hydrat_p = ev_nourriture_p(alimentation_p, hydrat_p)\n",
    "        \n",
    "        sante_fct_hydr_alim_p(alimentation_p, hydrat_p, sante_p)\n",
    "        \n",
    "        res = combat_p_h(force,capadap,dang_p,)\n",
    "        \n",
    "        sante_p = alimentation, sante, alimentation_p, sante_p , c = sante_apres_combat(res,alimentation,sante,alimentation_p,sante_p)\n",
    "        \n",
    "        L_pos , Combat = simul_depla(matrice,L_pos,chang,taille)\n",
    "        \n",
    "        Lsante.append(sante)\n",
    "        Leau.append(hydrat)\n",
    "        #Définition de la capacité de survie a x jour\n",
    "        \n",
    "        if j==10:\n",
    "            p_s_10 = p_s\n",
    "        \n",
    "        #Augmentation de la capacité d'adaptation\n",
    "        if capadap<1.0:\n",
    "            capadap=capadap+0.01\n",
    "       \n",
    "        \n",
    "        j=j+1\n",
    "        \n",
    "        \n",
    "    #print(model(j,Lsante),Lsante)\n",
    "    if sauve==True:\n",
    "        c=\"Sauvé!\"\n",
    "    return j, c,sante\n",
    "\n",
    "\n"
   ]
  },
  {
   "cell_type": "code",
   "execution_count": 36,
   "metadata": {},
   "outputs": [],
   "source": [
    "def test(a,b,c):\n",
    "    comp=0\n",
    "    while a!=0:\n",
    "        aa,ab,ah=simulation_survie(b,c)\n",
    "        if ah!=0:\n",
    "            comp=comp+1\n",
    "        a=a-1\n",
    "    return simulation_survie(b,c),comp"
   ]
  },
  {
   "cell_type": "code",
   "execution_count": null,
   "metadata": {
    "scrolled": true
   },
   "outputs": [],
   "source": [
    "test(4,\"professionnel\",\"Amazonie\")"
   ]
  },
  {
   "cell_type": "code",
   "execution_count": 53,
   "metadata": {},
   "outputs": [
    {
     "name": "stdout",
     "output_type": "stream",
     "text": [
      "-10 1 5\n",
      "-10 1 5\n",
      "-11 10 8\n",
      "-11 10 8\n",
      "-12 26 2\n",
      "-12 26 2\n",
      "-13 4 14\n",
      "-13 4 14\n",
      "-14 22 19\n",
      "-14 22 19\n",
      "-15 0 20\n",
      "-15 0 20\n",
      "-16 17 21\n",
      "-16 17 21\n",
      "-17 20 23\n",
      "-17 20 23\n",
      "-18 4 6\n",
      "-18 4 6\n",
      "-19 11 2\n",
      "-19 11 2\n",
      "-20 29 3\n",
      "-20 29 3\n",
      "-21 1 16\n",
      "-21 1 16\n",
      "-22 25 10\n",
      "-22 25 10\n",
      "-23 8 21\n",
      "-23 8 21\n",
      "-24 16 25\n",
      "-24 16 25\n",
      "-25 23 29\n",
      "-25 23 29\n",
      "-26 1 6\n",
      "-26 1 6\n",
      "-27 13 0\n",
      "-27 13 0\n",
      "-28 24 4\n",
      "-28 24 4\n",
      "-29 7 15\n",
      "-29 7 15\n",
      "-30 29 16\n",
      "-30 29 16\n",
      "-31 4 22\n",
      "-31 4 22\n",
      "-32 13 29\n",
      "-32 13 29\n",
      "-33 23 21\n",
      "-33 23 21\n",
      "<matplotlib.colors.ListedColormap object at 0x0000028EF76BADD8> [-10, -6, -5, -4, -3, -2, -1, 0, 1, 2] <matplotlib.colors.BoundaryNorm object at 0x0000028EF76BAE10>\n"
     ]
    },
    {
     "data": {
      "image/png": "[encoded data removed]",
      "text/plain": [
       "<matplotlib.figure.Figure at 0x28ef76ba8d0>"
      ]
     },
     "metadata": {},
     "output_type": "display_data"
    },
    {
     "name": "stdout",
     "output_type": "stream",
     "text": [
      "None [1.0]\n"
     ]
    },
    {
     "data": {
      "text/plain": [
       "(1, \"le prédateur est tué par l'humain\", 1.0)"
      ]
     },
     "execution_count": 53,
     "metadata": {},
     "output_type": "execute_result"
    },
    {
     "data": {
      "image/png": "[encoded data removed]",
      "text/plain": [
       "<matplotlib.figure.Figure at 0x28ef7e066a0>"
      ]
     },
     "metadata": {},
     "output_type": "display_data"
    }
   ],
   "source": [
    "simulation_survie(\"moyen\",\"Amazonie\",\"jaguar\",30)"
   ]
  },
  {
   "cell_type": "code",
   "execution_count": null,
   "metadata": {},
   "outputs": [],
   "source": []
  },
  {
   "cell_type": "code",
   "execution_count": null,
   "metadata": {},
   "outputs": [],
   "source": []
  },
  {
   "cell_type": "code",
   "execution_count": null,
   "metadata": {},
   "outputs": [],
   "source": []
  },
  {
   "cell_type": "code",
   "execution_count": null,
   "metadata": {},
   "outputs": [],
   "source": []
  }
 ],
 "metadata": {
  "kernelspec": {
   "display_name": "Python 3",
   "language": "python",
   "name": "python3"
  },
  "language_info": {
   "codemirror_mode": {
    "name": "ipython",
    "version": 3
   },
   "file_extension": ".py",
   "mimetype": "text/x-python",
   "name": "python",
   "nbconvert_exporter": "python",
   "pygments_lexer": "ipython3",
   "version": "3.6.4"
  }
 },
 "nbformat": 4,
 "nbformat_minor": 2
}
