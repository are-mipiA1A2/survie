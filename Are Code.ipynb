{
 "cells": [
  {
   "cell_type": "markdown",
   "metadata": {},
   "source": [
    "## Modélisation de la survie d'un individu dans un milieu hostile."
   ]
  },
  {
   "cell_type": "code",
   "execution_count": 385,
   "metadata": {},
   "outputs": [],
   "source": [
    "import numpy as np"
   ]
  },
  {
   "cell_type": "code",
   "execution_count": 499,
   "metadata": {},
   "outputs": [],
   "source": [
    "def construction_abri(cap , source_inf , vegr , veg , s , jourres , abri):\n",
    "    \"\"\"float*bool*int*float*int*bool => bool*int*bool*bool\"\"\"\n",
    "    #sauve:bool\n",
    "    sauve = False\n",
    "    #rand:float\n",
    "    if jourres != 0:\n",
    "        jourres = jourres - 1\n",
    "    else:\n",
    "        abri = True\n",
    "    if jourres == -11 or vegr == 0:\n",
    "        jourres = ((45/(cap*0.5)//10 * 1/(veg/5)))/1.\n",
    "        abri = False\n",
    "        source_inf = False\n",
    "        rand = np.random.random_sample()\n",
    "        if rand < s:\n",
    "            sauve = True\n",
    "    jourres = jourres//1\n",
    "\n",
    "    return jourres , abri , sauve , source_inf"
   ]
  },
  {
   "cell_type": "code",
   "execution_count": null,
   "metadata": {},
   "outputs": [],
   "source": []
  },
  {
   "cell_type": "code",
   "execution_count": 387,
   "metadata": {},
   "outputs": [
    {
     "data": {
      "text/plain": [
       "(22.0, False, True, False)"
      ]
     },
     "execution_count": 387,
     "metadata": {},
     "output_type": "execute_result"
    }
   ],
   "source": [
    "construction_abri(0.1,False,1,20,0.1,-10,False)"
   ]
  },
  {
   "cell_type": "code",
   "execution_count": 388,
   "metadata": {},
   "outputs": [],
   "source": [
    "def trouver_eau(p_eau , capadap , source_inf , hydrat):\n",
    "    \"\"\"float*float*bool*float => bool*float\"\"\"\n",
    "    \n",
    "    if source_inf == 1:\n",
    "        hydrat = 1\n",
    "    else:\n",
    "        rand = np.random.random_sample()\n",
    "        if rand <= 0.4*p_eau*(2*capadap):\n",
    "            \n",
    "            hydrat = hydrat + 0.2\n",
    "        elif rand <= p_eau*(4*capadap) :\n",
    "            \n",
    "            hydrat = hydrat + 0.5\n",
    "            rand=np.random.random_sample()\n",
    "            if rand > 0.4:\n",
    "                b=3\n",
    "                source_inf = True\n",
    "    if hydrat > 1:\n",
    "        hydrat = 1\n",
    "    return source_inf , hydrat"
   ]
  },
  {
   "cell_type": "code",
   "execution_count": 389,
   "metadata": {},
   "outputs": [],
   "source": [
    " def inter_veget(veg,alimentation,capadap,vegre):\n",
    "    \"\"\"int*float*float=>int*float\"\"\"\n",
    "    #p_vg:float\n",
    "    p_vg=0.6\n",
    "    #trouve:bool\n",
    "    trouve=True\n",
    "    #vegr:int\n",
    "    vegr=vegre\n",
    "    if vegr == 0:\n",
    "        vegr = veg\n",
    "    while vegr>0 and trouve==True:\n",
    "        rand=np.random.random_sample()\n",
    "        if rand * capadap < p_vg:\n",
    "            alimentation = alimentation + (0.08 * capadap)\n",
    "            vegr = vegr - 1\n",
    "            p_vg = p_vg-0.1\n",
    "        else:\n",
    "            trouve=False\n",
    "    if alimentation > 1:\n",
    "        alimentation = 1\n",
    "    return alimentation , vegr"
   ]
  },
  {
   "cell_type": "code",
   "execution_count": 401,
   "metadata": {},
   "outputs": [],
   "source": [
    "\n",
    "def inter_anim(p_a, p_ap, force, capadap, alimentation, sante):\n",
    "    \"\"\"\n",
    "    float ^6 -> float ^2\n",
    "    hyp : \n",
    "    \"\"\"\n",
    "    random1=np.random.random_sample()\n",
    "    if random1 <= p_a : \n",
    "        random2 = np.random.random_sample()\n",
    "        if random2 <= p_ap :\n",
    "            alimentation,sante = inter_pred(force, capadap, alimentation, sante)\n",
    "        else :\n",
    "            alimentation = alimentation + 0.15\n",
    "    if alimentation > 1:\n",
    "        alimentation = 1.0\n",
    "        \n",
    "    return alimentation, sante"
   ]
  },
  {
   "cell_type": "code",
   "execution_count": 399,
   "metadata": {},
   "outputs": [],
   "source": [
    "def inter_pred(force, cap, alimentation, sante):\n",
    "    \"\"\"\n",
    "    float * float * float * float -> float * float \n",
    "    hyp : random2 <= p_a\n",
    "    rend le niveau d alimentation et de sante apres une rencontre avec un animal dangereux \n",
    "    \"\"\"\n",
    "\n",
    "    random4=np.random.random_sample()\n",
    "    combat = random4*(force+0.5)*(cap+0.5)\n",
    "    if combat <= 0.1 :\n",
    "        sante = 0 \n",
    "    elif combat <=0.4 :\n",
    "        sante = sante - (1-force)*(1-cap)*0.5\n",
    "    elif combat <= 0.7 : \n",
    "        sante =sante - (1-force)*(1-cap)*0.4\n",
    "        alimentation = alimentation + 0.15 \n",
    "    else :\n",
    "        alimentation = alimentation + 0.15\n",
    "    return alimentation, sante"
   ]
  },
  {
   "cell_type": "code",
   "execution_count": 540,
   "metadata": {},
   "outputs": [],
   "source": [
    "def sante_fct_hydr_alim(alimentation,hydratation,sante):\n",
    "    \"\"\"float³=>float\n",
    "    force en fonction de l'alimentation et hydratation\"\"\"\n",
    "    if alimentation >= 0.5 and hydratation >=0.5:\n",
    "        if sante<0.3:\n",
    "              sante = 0.3\n",
    "        else:\n",
    "              sante = sante + 0.1\n",
    "    elif alimentation<0.5 :\n",
    "        if hydratation<0.5:\n",
    "            sante = sante - ((0.5-alimentation)*0.5 + (0.5-hydratation)*0.8)\n",
    "        else:\n",
    "            sante = sante - (0.5-alimentation)*0.4\n",
    "    else:\n",
    "        sante = sante - (0.5-hydratation)*0.84\n",
    "    if sante > 1.0 :\n",
    "        sante = 1.0\n",
    "    \n",
    "    hydratation=hydratation-0.3\n",
    "    alimentation=alimentation-0.2\n",
    "    if hydratation <=0 :\n",
    "        sante =0\n",
    "    return sante,alimentation,hydratation"
   ]
  },
  {
   "cell_type": "code",
   "execution_count": 463,
   "metadata": {},
   "outputs": [],
   "source": [
    "def secouru(p_s, j,p_s_ini,p_s_10):\n",
    "    \"\"\"\n",
    "    float * int -> bool \n",
    "    hyp :\n",
    "    retourne si l agent est secouru par une equipe de secours\n",
    "    \"\"\"\n",
    "\n",
    "\n",
    "    #secouru : bool\n",
    "    secouru = False\n",
    "\n",
    "    if j <= 10 :\n",
    "        p_s = p_s + p_s_ini*0.2\n",
    "    elif j <= 25 :\n",
    "        p_s_10 = p_s\n",
    "    else :\n",
    "        p_s = p_s - p_s_10*0.2\n",
    "    \n",
    "    random5=np.random.random_sample()\n",
    "    secouru = random5 <= p_s\n",
    "\n",
    "    return secouru , p_s\n"
   ]
  },
  {
   "cell_type": "code",
   "execution_count": 464,
   "metadata": {},
   "outputs": [
    {
     "data": {
      "text/plain": [
       "(False, 0.009999989999999999)"
      ]
     },
     "execution_count": 464,
     "metadata": {},
     "output_type": "execute_result"
    }
   ],
   "source": [
    "secouru(0.008666657999999999,0,0.00666666,0)"
   ]
  },
  {
   "cell_type": "code",
   "execution_count": 465,
   "metadata": {},
   "outputs": [],
   "source": [
    "#dictionnaire_agent:dict[str:tuple[float,float,float]]\n",
    "dictionnaire_agent={}\n",
    "dictionnaire_agent[\"professionnel\"]=(0.8,0.9)\n",
    "dictionnaire_agent[\"bureaucrate\"]=(0.2,0.3)\n",
    "dictionnaire_agent[\"moyen\"]=(0.5,0.5)\n",
    "\n",
    "#dictionnaire_biome:dict[str:tuple[float,float,int,float,float,float]]\n",
    "dictionnaire_biome={}\n",
    "dictionnaire_biome[\"Amazonie\"]=(0.65,0.5,33,0.7,0.03571428571,0.007142857142)\n",
    "dictionnaire_biome[\"Alaska\"]=(0.38,0.25,18,0.6,0.00043185564,0.00086371128)\n",
    "dictionnaire_biome[\"France\"]=(0.3,0.05,17,0.6,0.03,0.06)\n",
    "dictionnaire_biome[\"Sahara\"]=(0.25,0.5,1,0.1,0.00333333,0.00666666)"
   ]
  },
  {
   "cell_type": "code",
   "execution_count": 541,
   "metadata": {},
   "outputs": [],
   "source": [
    "def simulation_survie(agent,biome):\n",
    "    \"\"\"str*str*dict[str:tuple[float,float]]*dict[str:tuple[float,float,int,float,float,float]]\"\"\"\n",
    "    \n",
    "    #c : cause de la fin\n",
    "    c = \"\"\n",
    "    #j : compteur jour\n",
    "    j = 0\n",
    "    #jour_r:float\n",
    "    jour_r=-10\n",
    "    #abri:bool\n",
    "    abri=False\n",
    "    #sauve:bool\n",
    "    sauve=False\n",
    "    #sourceinf:bool\n",
    "    source_inf=False\n",
    "    #sante:float\n",
    "    sante=1.0\n",
    "    #hydrat:float\n",
    "    hydrat=1.0\n",
    "    #alimentation:float\n",
    "    alimentation=1.0\n",
    "    \n",
    "    force , capadap = dictionnaire_agent[agent]\n",
    "    p_a , p_ap , veg , p_e , p_v , p_s = dictionnaire_biome[biome]\n",
    "    vegr=veg\n",
    "    p_s_ini = p_s\n",
    "    p_s_10=p_s\n",
    "    while sante > 0 and sauve != True and j!=60:\n",
    "        jour_r , abri , sauve , source_inf = construction_abri(capadap , source_inf , vegr , veg , p_v , jour_r , abri)\n",
    "        sourceinf , hydrat = trouver_eau(p_e , capadap , source_inf , hydrat)\n",
    "        alimentation , sante = inter_anim(p_a, p_ap, force, capadap, alimentation, sante)\n",
    "        alimentation , vegr = inter_veget(veg,alimentation,capadap,vegr)\n",
    "        sante,alimentation,hydrat = sante_fct_hydr_alim(alimentation, hydrat, sante)\n",
    "        sauve , p_s = secouru (p_s,j,p_s_ini,p_s_10)\n",
    "        print(j,sante,alimentation,hydrat)\n",
    "        j = j + 1\n",
    "        if j==10:\n",
    "            p_s_10 = p_s\n",
    "\n",
    "\n",
    "    return j, c,sante,force,capadap,sauve\n"
   ]
  },
  {
   "cell_type": "code",
   "execution_count": 543,
   "metadata": {
    "scrolled": false
   },
   "outputs": [
    {
     "name": "stdout",
     "output_type": "stream",
     "text": [
      "0 1.0 0.8 0.7\n",
      "1 1.0 0.8 0.7\n",
      "2 1.0 0.7200000000000002 0.39999999999999997\n",
      "3 1.0 0.6940000000000002 0.5999999999999999\n",
      "4 1.0 0.5900000000000003 0.2999999999999999\n"
     ]
    },
    {
     "data": {
      "text/plain": [
       "(5, '', 1.0, 0.2, 0.3, True)"
      ]
     },
     "execution_count": 543,
     "metadata": {},
     "output_type": "execute_result"
    }
   ],
   "source": [
    "simulation_survie(\"bureaucrate\",\"France\")"
   ]
  },
  {
   "cell_type": "code",
   "execution_count": 479,
   "metadata": {},
   "outputs": [],
   "source": [
    "def test(a,b,c):\n",
    "    while a!=0:\n",
    "        print(simulation_survie(b,c))\n",
    "        a=a-1\n",
    "    return simulation_survie(b,c)"
   ]
  },
  {
   "cell_type": "code",
   "execution_count": 482,
   "metadata": {},
   "outputs": [
    {
     "name": "stdout",
     "output_type": "stream",
     "text": [
      "(60, '', 1.0, 0.8, 0.9, False)\n",
      "(60, '', 1.0, 0.8, 0.9, False)\n",
      "(5, '', 0.5, 0.8, 0.9, True)\n",
      "(60, '', 1.0, 0.8, 0.9, False)\n",
      "(4, '', 1.0, 0.8, 0.9, True)\n",
      "(19, '', 0.4, 0.8, 0.9, True)\n",
      "(60, '', 0.7999999999999999, 0.8, 0.9, False)\n",
      "(23, '', 1.0, 0.8, 0.9, True)\n",
      "(14, '', 1.0, 0.8, 0.9, True)\n",
      "(60, '', 1.0, 0.8, 0.9, False)\n"
     ]
    },
    {
     "data": {
      "text/plain": [
       "(60, '', 1.0, 0.8, 0.9, False)"
      ]
     },
     "execution_count": 482,
     "metadata": {},
     "output_type": "execute_result"
    }
   ],
   "source": [
    "test(10,\"professionnel\",\"Sahara\")"
   ]
  },
  {
   "cell_type": "code",
   "execution_count": null,
   "metadata": {},
   "outputs": [],
   "source": []
  }
 ],
 "metadata": {
  "kernelspec": {
   "display_name": "Python 3",
   "language": "python",
   "name": "python3"
  },
  "language_info": {
   "codemirror_mode": {
    "name": "ipython",
    "version": 3
   },
   "file_extension": ".py",
   "mimetype": "text/x-python",
   "name": "python",
   "nbconvert_exporter": "python",
   "pygments_lexer": "ipython3",
   "version": "3.4.2"
  }
 },
 "nbformat": 4,
 "nbformat_minor": 2
}
