{
 "cells": [
  {
   "cell_type": "markdown",
   "metadata": {},
   "source": [
    "## Modélisation de la survie d'un individu dans un milieu hostile."
   ]
  },
  {
   "cell_type": "code",
   "execution_count": 546,
   "metadata": {},
   "outputs": [],
   "source": [
    "import numpy as np\n",
    "import matplotlib.pyplot as plt"
   ]
  },
  {
   "cell_type": "code",
   "execution_count": 547,
   "metadata": {},
   "outputs": [],
   "source": [
    "def construction_abri(cap , source_inf , vegr , veg , s , jourres , abri):\n",
    "    \"\"\"float*bool*int*float*int*bool => bool*int*bool*bool\"\"\"\n",
    "    #sauve:bool\n",
    "    sauve = False\n",
    "    #rand:float\n",
    "    if jourres != 0:\n",
    "        jourres = jourres - 1\n",
    "    else:\n",
    "        abri = True\n",
    "    if jourres == -11 or vegr == 0:\n",
    "        jourres = ((45/(cap*0.5)//10 * 1/(veg/5)))/1.\n",
    "        abri = False\n",
    "        source_inf = False\n",
    "        rand = np.random.random_sample()\n",
    "        if rand < s:\n",
    "            sauve = True\n",
    "    jourres = jourres//1\n",
    "\n",
    "    return jourres , abri , sauve , source_inf"
   ]
  },
  {
   "cell_type": "code",
   "execution_count": null,
   "metadata": {},
   "outputs": [],
   "source": []
  },
  {
   "cell_type": "code",
   "execution_count": 548,
   "metadata": {},
   "outputs": [
    {
     "data": {
      "text/plain": [
       "(22.0, False, False, False)"
      ]
     },
     "execution_count": 548,
     "metadata": {},
     "output_type": "execute_result"
    }
   ],
   "source": [
    "construction_abri(0.1,False,1,20,0.1,-10,False)"
   ]
  },
  {
   "cell_type": "code",
   "execution_count": 549,
   "metadata": {},
   "outputs": [],
   "source": [
    "def trouver_eau(p_eau , capadap , source_inf , hydrat):\n",
    "    \"\"\"float*float*bool*float => bool*float\"\"\"\n",
    "    b=0\n",
    "    if source_inf == 1:\n",
    "        hydrat = 1\n",
    "    else:\n",
    "        rand = np.random.random_sample()\n",
    "        if rand <= 0.4*p_eau*(2.5*capadap):\n",
    "            b=1\n",
    "            hydrat = hydrat + 0.25\n",
    "        elif rand <= p_eau*(5*capadap) :\n",
    "            b=2\n",
    "            hydrat = hydrat + 0.5\n",
    "            rand=np.random.random_sample()\n",
    "            if rand > 0.4:\n",
    "                b=3\n",
    "                source_inf = True\n",
    "    if hydrat > 1:\n",
    "        hydrat = 1\n",
    "    return source_inf , hydrat,b"
   ]
  },
  {
   "cell_type": "code",
   "execution_count": 567,
   "metadata": {},
   "outputs": [],
   "source": [
    " def inter_veget(veg,alimentation,capadap,vegre):\n",
    "    \"\"\"int*float*float=>int*float\"\"\"\n",
    "    #p_vg:float\n",
    "    p_vg=0.6\n",
    "    #trouve:bool\n",
    "    trouve=True\n",
    "    #vegr:int\n",
    "    vegr=vegre\n",
    "    if vegr == 0:\n",
    "        vegr = veg\n",
    "    while vegr>0 and trouve==True:\n",
    "        rand=np.random.random_sample()\n",
    "        if rand * capadap < p_vg:\n",
    "            alimentation = alimentation + (0.08 * capadap)\n",
    "            vegr = vegr - 1\n",
    "            p_vg = p_vg-0.1\n",
    "        else:\n",
    "            trouve=False\n",
    "    if alimentation > 1:\n",
    "        alimentation = 1\n",
    "    return alimentation , vegr"
   ]
  },
  {
   "cell_type": "code",
   "execution_count": null,
   "metadata": {},
   "outputs": [],
   "source": []
  },
  {
   "cell_type": "code",
   "execution_count": 551,
   "metadata": {},
   "outputs": [],
   "source": [
    "\n",
    "def inter_anim(p_a, p_ap, force, capadap, alimentation, sante,c):\n",
    "    \"\"\"\n",
    "    float ^6 -> float ^2\n",
    "    hyp : \n",
    "    \"\"\"\n",
    "    \n",
    "    \n",
    "    random1=np.random.random_sample()\n",
    "    if random1 <= p_a : \n",
    "        random2 = np.random.random_sample()\n",
    "        if random2 <= p_ap :\n",
    "            alimentation,sante = inter_pred(force, capadap, alimentation, sante)\n",
    "        else :\n",
    "            alimentation = alimentation + 0.15\n",
    "    if alimentation > 1:\n",
    "        alimentation = 1.0\n",
    "    \n",
    "    if sante <= 0:\n",
    "        sante = 0\n",
    "        c = \"Mort mangé par un prédateur\"\n",
    "        \n",
    "    return alimentation , sante , c"
   ]
  },
  {
   "cell_type": "code",
   "execution_count": 552,
   "metadata": {},
   "outputs": [],
   "source": [
    "def inter_pred(force, cap, alimentation, sante):\n",
    "    \"\"\"\n",
    "    float * float * float * float -> float * float \n",
    "    hyp : random2 <= p_a\n",
    "    rend le niveau d alimentation et de sante apres une rencontre avec un animal dangereux \n",
    "    \"\"\"\n",
    "\n",
    "    random4=np.random.random_sample()\n",
    "    combat = random4*(force+0.5)*(cap+0.5)\n",
    "    if combat <= 0.1 :\n",
    "        sante = 0 \n",
    "    elif combat <=0.4 :\n",
    "        sante = sante - (1-force)*(1-cap)*0.5\n",
    "    elif combat <= 0.7 : \n",
    "        sante =sante - (1-force)*(1-cap)*0.4\n",
    "        alimentation = alimentation + 0.15 \n",
    "    else :\n",
    "        alimentation = alimentation + 0.15\n",
    "    return alimentation, sante"
   ]
  },
  {
   "cell_type": "code",
   "execution_count": 553,
   "metadata": {},
   "outputs": [],
   "source": [
    "def sante_fct_hydr_alim(alimentation,hydratation,sante,abri,force,c):\n",
    "    \"\"\"float³=>float\n",
    "    force en fonction de l'alimentation et hydratation\"\"\"\n",
    "    \n",
    "    if abri==True:\n",
    "        sante=sante+0.025\n",
    "    \n",
    "    if alimentation >= 0.7 and hydratation >=0.7:\n",
    "        if sante<0.2:\n",
    "            sante = 0.2\n",
    "        else:\n",
    "            sante = sante + 0.05\n",
    "    elif alimentation>=0.5 and hydratation >=0.5:\n",
    "        alimentation=alimentation\n",
    "    elif alimentation<0.5 :\n",
    "        if hydratation<0.5:\n",
    "            sante = sante - ((0.5-alimentation)*0.7 + (0.5-hydratation)*0.9)\n",
    "        else:\n",
    "            sante = sante - (0.5-alimentation)*0.5\n",
    "    else:\n",
    "        sante = sante - (0.6-hydratation)\n",
    "    if sante <=0:\n",
    "        sante=0\n",
    "        c=\"Mort d'épuisement\"\n",
    "    if sante > 1.0 :\n",
    "        sante = 1.0\n",
    "    \n",
    "    if sante >=0.3 and force<=1.0:\n",
    "        force=force+0.01\n",
    "    elif force>=0.1:\n",
    "        force=force-0.05\n",
    "    \n",
    "    \n",
    "    hydratation=hydratation-0.3\n",
    "    alimentation=alimentation-0.15\n",
    "    if hydratation <= 0:\n",
    "        hydratation =0\n",
    "        c = \"Mort de déshydratation\"\n",
    "        sante = 0\n",
    "    if alimentation <= 0:\n",
    "        alimentation = 0\n",
    "        c = \"Mort de faim\"\n",
    "        sante = 0\n",
    "    return sante,alimentation,hydratation,force,c"
   ]
  },
  {
   "cell_type": "code",
   "execution_count": 554,
   "metadata": {},
   "outputs": [],
   "source": [
    "def secouru(p_s, j,p_s_ini,p_s_10):\n",
    "    \"\"\"\n",
    "    float * int -> bool \n",
    "    hyp :\n",
    "    retourne si l agent est secouru par une equipe de secours\n",
    "    \"\"\"\n",
    "\n",
    "\n",
    "    #secouru : bool\n",
    "    secouru = False\n",
    "\n",
    "    if j <= 10 :\n",
    "        p_s = p_s + p_s_ini*0.2\n",
    "    elif j <= 25 :\n",
    "        p_s_10 = p_s\n",
    "    else :\n",
    "        p_s = p_s - p_s_10*0.2\n",
    "    \n",
    "    random5=np.random.random_sample()\n",
    "    secouru = random5 <= p_s\n",
    "\n",
    "    return secouru , p_s\n"
   ]
  },
  {
   "cell_type": "code",
   "execution_count": 555,
   "metadata": {},
   "outputs": [
    {
     "data": {
      "text/plain": [
       "(False, 0.009999989999999999)"
      ]
     },
     "execution_count": 555,
     "metadata": {},
     "output_type": "execute_result"
    }
   ],
   "source": [
    "secouru(0.008666657999999999,0,0.00666666,0)"
   ]
  },
  {
   "cell_type": "code",
   "execution_count": 556,
   "metadata": {},
   "outputs": [],
   "source": [
    "#dictionnaire_agent:dict[str:tuple[float,float,float]]\n",
    "dictionnaire_agent={}\n",
    "dictionnaire_agent[\"professionnel\"]=(0.8,0.9)\n",
    "dictionnaire_agent[\"bureaucrate\"]=(0.2,0.3)\n",
    "dictionnaire_agent[\"moyen\"]=(0.5,0.5)\n",
    "dictionnaire_agent[\"Maxime\"]=(0.1,0.1)\n",
    "\n",
    "#dictionnaire_biome:dict[str:tuple[float,float,int,float,float,float]]\n",
    "dictionnaire_biome={}\n",
    "dictionnaire_biome[\"Amazonie\"]=(0.65,0.75,33,0.7,0.03571428571,0.007142857142)\n",
    "dictionnaire_biome[\"Alaska\"]=(0.38,0.25,18,0.6,0.00043185564,0.0086371128)\n",
    "dictionnaire_biome[\"France\"]=(0.3,0.05,17,0.6,0.03,0.06)\n",
    "dictionnaire_biome[\"Sahara\"]=(0.25,0.5,1,0.1,0.00333333,0.00666666)"
   ]
  },
  {
   "cell_type": "code",
   "execution_count": 557,
   "metadata": {},
   "outputs": [],
   "source": [
    "def nouveau_agent(nom,force,cap):\n",
    "    \"\"\"\n",
    "    str * float^2 -> dict[str:tuple[float,float]]\n",
    "    hyp: len(nom) >= 1 and force >0 and force <1 and cap >0 and cap <1\n",
    "    retourne le dictionnaire des agents augmenté de l agent créé\n",
    "    \"\"\"\n",
    "    dictionnaire_agent[nom]=(force,cap)\n",
    "    return dictionnaire_agent\n"
   ]
  },
  {
   "cell_type": "code",
   "execution_count": 558,
   "metadata": {},
   "outputs": [],
   "source": [
    "def nouveau_biome(nom,p_a,p_ap,veg,p_e,p_v,p_s):\n",
    "    \"\"\"\n",
    "    str * float^6 -> dict[str:tuple[float,float,int,float,float,float]]\n",
    "    hyp: len(nom) >= 1 and 0< p_a <1 and 0< p_ap <1 and 0< veg and 0< p_e <1 and 0< p_v <1 and 0< p_s <1\n",
    "    retourne le dictionnaire des biomes augmenté du biome créé\n",
    "    \"\"\"\n",
    "    dictionnaire_biome[nom]=(p_a,p_ap,veg,p_e,p_v,p_s)"
   ]
  },
  {
   "cell_type": "code",
   "execution_count": 559,
   "metadata": {},
   "outputs": [
    {
     "data": {
      "text/plain": [
       "{'Adrien': (0.3, 0.5),\n",
       " 'Maxime': (0.1, 0.1),\n",
       " 'bureaucrate': (0.2, 0.3),\n",
       " 'moyen': (0.5, 0.5),\n",
       " 'professionnel': (0.8, 0.9)}"
      ]
     },
     "execution_count": 559,
     "metadata": {},
     "output_type": "execute_result"
    }
   ],
   "source": [
    "nouveau_agent(\"Adrien\",0.3,0.5)"
   ]
  },
  {
   "cell_type": "code",
   "execution_count": null,
   "metadata": {},
   "outputs": [],
   "source": []
  },
  {
   "cell_type": "code",
   "execution_count": 581,
   "metadata": {},
   "outputs": [],
   "source": [
    "\n",
    "\n",
    "def simulation_survie(agent,biome):\n",
    "    \"\"\"str*str*dict[str:tuple[float,float]]*dict[str:tuple[float,float,int,float,float,float]]\"\"\"\n",
    "    \n",
    "    #c : cause de la fin\n",
    "    c = \"\"\n",
    "    #j : compteur jour\n",
    "    j = 0\n",
    "    #jour_r:float\n",
    "    jour_r=-10\n",
    "    #abri:bool\n",
    "    abri=False\n",
    "    #sauve:bool\n",
    "    sauve=False\n",
    "    #sourceinf:bool\n",
    "    source_inf=False\n",
    "    #sante:float\n",
    "    sante=1.0\n",
    "    #hydrat:float\n",
    "    hydrat=1.0\n",
    "    #alimentation:float\n",
    "    alimentation=1.0\n",
    "    #Lsante:list[float]\n",
    "    Lsante=[]\n",
    "    Leau=[]\n",
    "    \n",
    "    force , capadap = dictionnaire_agent[agent]\n",
    "    p_a , p_ap , veg , p_e , p_v , p_s = dictionnaire_biome[biome]\n",
    "    vegr=veg\n",
    "    p_s_ini = p_s\n",
    "    p_s_10=p_s\n",
    "    while sante > 0 and sauve != True:\n",
    "        jour_r , abri , sauve , source_inf = construction_abri(capadap , source_inf , vegr , veg , p_v , jour_r , abri)\n",
    "        \n",
    "        sourceinf , hydrat ,b = trouver_eau(p_e , capadap , source_inf , hydrat)\n",
    "        \n",
    "        alimentation , sante , c  = inter_anim(p_a, p_ap, force, capadap, alimentation, sante, c)\n",
    "        \n",
    "        if c != \"\":\n",
    "            print(model(j,Lsante),Lsante)\n",
    "            return j, c,sante,force,capadap,sauve\n",
    "        \n",
    "        alimentation , vegr = inter_veget(veg,alimentation,capadap,vegr)\n",
    "        \n",
    "        sante , alimentation , hydrat , force , c = sante_fct_hydr_alim(alimentation, hydrat, sante,abri,force,c)\n",
    "        \n",
    "        sauve , p_s = secouru (p_s,j,p_s_ini,p_s_10)\n",
    "        \n",
    "        Lsante.append(sante)\n",
    "        Leau.append(hydrat)\n",
    "        #Définition de la capacité de survie a x jour\n",
    "        \n",
    "        if j==10:\n",
    "            p_s_10 = p_s\n",
    "        \n",
    "        #Augmentation de la capacité d'adaptation\n",
    "        if capadap<1.0:\n",
    "            capadap=capadap+0.01\n",
    "       \n",
    "        \n",
    "        j=j+1\n",
    "    print(model(j,Lsante),Lsante)\n",
    "    if sauve==True:\n",
    "        c=\"Sauvé!\"\n",
    "    return j, c,sante\n",
    "\n",
    "\n"
   ]
  },
  {
   "cell_type": "code",
   "execution_count": 582,
   "metadata": {},
   "outputs": [
    {
     "name": "stdout",
     "output_type": "stream",
     "text": [
      "None [1.0, 0.91476, 0.9647600000000001, 1.0, 1.0, 1.0, 1.0, 1.0, 1.0, 1.0, 1.0, 1.0, 1.0, 1.0]\n"
     ]
    },
    {
     "data": {
      "text/plain": [
       "(14,\n",
       " 'Mort mangé par un prédateur',\n",
       " 0,\n",
       " 0.4400000000000001,\n",
       " 0.6400000000000001,\n",
       " False)"
      ]
     },
     "execution_count": 582,
     "metadata": {},
     "output_type": "execute_result"
    },
    {
     "data": {
      "image/png": "[encoded data removed]",
      "text/plain": [
       "<matplotlib.figure.Figure at 0x7f3c56c08a58>"
      ]
     },
     "metadata": {},
     "output_type": "display_data"
    }
   ],
   "source": [
    "simulation_survie(\"Adrien\",\"Alaska\")"
   ]
  },
  {
   "cell_type": "code",
   "execution_count": 583,
   "metadata": {},
   "outputs": [],
   "source": [
    "def test(a,b,c):\n",
    "    comp=0\n",
    "    while a!=0:\n",
    "        aa,ab,ac,ad,ae,af=simulation_survie(b,c)\n",
    "        if af==True:\n",
    "            comp=comp+1\n",
    "        a=a-1\n",
    "    return simulation_survie(b,c),comp"
   ]
  },
  {
   "cell_type": "code",
   "execution_count": 584,
   "metadata": {
    "scrolled": true
   },
   "outputs": [
    {
     "name": "stdout",
     "output_type": "stream",
     "text": [
      "None [1.0, 1.0, 1.0, 1.0, 1.0, 1.0, 1.0, 1.0, 1.0, 1.0]\n"
     ]
    },
    {
     "ename": "ValueError",
     "evalue": "need more than 3 values to unpack",
     "output_type": "error",
     "traceback": [
      "\u001b[0;31m---------------------------------------------------------------------------\u001b[0m",
      "\u001b[0;31mValueError\u001b[0m                                Traceback (most recent call last)",
      "\u001b[0;32m<ipython-input-584-c3216a35ade4>\u001b[0m in \u001b[0;36m<module>\u001b[0;34m()\u001b[0m\n\u001b[0;32m----> 1\u001b[0;31m \u001b[0mtest\u001b[0m\u001b[0;34m(\u001b[0m\u001b[0;36m30\u001b[0m\u001b[0;34m,\u001b[0m\u001b[0;34m\"professionnel\"\u001b[0m\u001b[0;34m,\u001b[0m\u001b[0;34m\"Amazonie\"\u001b[0m\u001b[0;34m)\u001b[0m\u001b[0;34m\u001b[0m\u001b[0m\n\u001b[0m",
      "\u001b[0;32m<ipython-input-583-a55780afec03>\u001b[0m in \u001b[0;36mtest\u001b[0;34m(a, b, c)\u001b[0m\n\u001b[1;32m      2\u001b[0m     \u001b[0mcomp\u001b[0m\u001b[0;34m=\u001b[0m\u001b[0;36m0\u001b[0m\u001b[0;34m\u001b[0m\u001b[0m\n\u001b[1;32m      3\u001b[0m     \u001b[0;32mwhile\u001b[0m \u001b[0ma\u001b[0m\u001b[0;34m!=\u001b[0m\u001b[0;36m0\u001b[0m\u001b[0;34m:\u001b[0m\u001b[0;34m\u001b[0m\u001b[0m\n\u001b[0;32m----> 4\u001b[0;31m         \u001b[0maa\u001b[0m\u001b[0;34m,\u001b[0m\u001b[0mab\u001b[0m\u001b[0;34m,\u001b[0m\u001b[0mac\u001b[0m\u001b[0;34m,\u001b[0m\u001b[0mad\u001b[0m\u001b[0;34m,\u001b[0m\u001b[0mae\u001b[0m\u001b[0;34m,\u001b[0m\u001b[0maf\u001b[0m\u001b[0;34m=\u001b[0m\u001b[0msimulation_survie\u001b[0m\u001b[0;34m(\u001b[0m\u001b[0mb\u001b[0m\u001b[0;34m,\u001b[0m\u001b[0mc\u001b[0m\u001b[0;34m)\u001b[0m\u001b[0;34m\u001b[0m\u001b[0m\n\u001b[0m\u001b[1;32m      5\u001b[0m         \u001b[0;32mif\u001b[0m \u001b[0maf\u001b[0m\u001b[0;34m==\u001b[0m\u001b[0;32mTrue\u001b[0m\u001b[0;34m:\u001b[0m\u001b[0;34m\u001b[0m\u001b[0m\n\u001b[1;32m      6\u001b[0m             \u001b[0mcomp\u001b[0m\u001b[0;34m=\u001b[0m\u001b[0mcomp\u001b[0m\u001b[0;34m+\u001b[0m\u001b[0;36m1\u001b[0m\u001b[0;34m\u001b[0m\u001b[0m\n",
      "\u001b[0;31mValueError\u001b[0m: need more than 3 values to unpack"
     ]
    },
    {
     "data": {
      "image/png": "[encoded data removed]",
      "text/plain": [
       "<matplotlib.figure.Figure at 0x7f3c56c17518>"
      ]
     },
     "metadata": {},
     "output_type": "display_data"
    }
   ],
   "source": [
    "test(30,\"professionnel\",\"Amazonie\")"
   ]
  },
  {
   "cell_type": "code",
   "execution_count": 585,
   "metadata": {},
   "outputs": [],
   "source": [
    "def model(jour,Lsante):\n",
    "    \"\"\"int*list[float]\"\"\"\n",
    "    Ljour=[]\n",
    "    for i in range(0,jour):\n",
    "        Ljour.append(i+1)\n",
    "    plt.bar(Ljour,Lsante , color='gray' )\n",
    "   "
   ]
  },
  {
   "cell_type": "code",
   "execution_count": 613,
   "metadata": {},
   "outputs": [],
   "source": [
    "def carto(chanzon,mat,nbdep):\n",
    "    \n",
    "    #i:int\n",
    "    #j:int\n",
    "    nbdep=nbdep+1\n",
    "    for i in range(0,10):\n",
    "        for j in range(0,10):\n",
    "            if mat[i,j]==1:\n",
    "                poshj=j\n",
    "                poshi=i\n",
    "            if mat[i,j]==-1\n",
    "                pospi=i\n",
    "                pospj=j\n",
    "               \n",
    "    if chanzon == True:\n",
    "        a=0\n",
    "        while a==0:\n",
    "            n=(np.random.random_sample()*6)//2\n",
    "            if n>=3 and poshj!=0:\n",
    "                if mat[poshi,poshj-1]<2:\n",
    "                    mat[poshi,poshj]=nbdep\n",
    "                    mat[poshi,poshj-1]=1\n",
    "                    a=1\n",
    "            elif n>=2 and poshi!=10 :\n",
    "                if mat[poshi+1,poshj]<2:\n",
    "                    mat[poshi,poshj]=nbdep\n",
    "                    mat[poshi,poshj-1]=1\n",
    "                    a=1\n",
    "            elif n>=1 and poshj!=10:\n",
    "                if mat[poshi,poshj+1]<2:\n",
    "                    mat[poshi,poshj]=nbdep\n",
    "                    mat[poshi,poshj+1]=1\n",
    "                    a=1\n",
    "            elif n>=0 and poshi!=0:\n",
    "                if mat[poshi-1,poshj]<2:\n",
    "                    mat[poshi,poshj]=nbdep\n",
    "                    mat[poshi-1,poshj]=1\n",
    "                    a=1\n",
    "                    \n",
    "    \n",
    "    \n",
    "    \n",
    "    \n",
    "        a=0\n",
    "        while a==0:\n",
    "            n=(np.random.random_sample()*6)//2\n",
    "            if n>=3 and pospj!=0:\n",
    "\n",
    "                mat[pospi,pospj]=0\n",
    "                mat[pospi,pospj-1]=1\n",
    "                a=1\n",
    "            elif n>=2 and pospi!=10 :\n",
    "\n",
    "                mat[pospi,pospj]=0\n",
    "                mat[pospi,pospj-1]=1\n",
    "                a=1\n",
    "            elif n>=1 and pospj!=10:\n",
    "\n",
    "                mat[pospi,pospj]=0\n",
    "                mat[pospi,pospj+1]=1\n",
    "                a=1\n",
    "            elif n>=0 and pospi!=0:\n",
    "\n",
    "                mat[pospi,pospj]=0\n",
    "                mat[pospi-1,pospj]=1\n",
    "                a=1\n",
    "    \n",
    "    return n\n",
    "        "
   ]
  },
  {
   "cell_type": "code",
   "execution_count": 611,
   "metadata": {},
   "outputs": [
    {
     "data": {
      "text/plain": [
       "3.0"
      ]
     },
     "execution_count": 611,
     "metadata": {},
     "output_type": "execute_result"
    }
   ],
   "source": [
    "carto(True, a)"
   ]
  },
  {
   "cell_type": "code",
   "execution_count": 609,
   "metadata": {},
   "outputs": [
    {
     "data": {
      "text/plain": [
       "6"
      ]
     },
     "execution_count": 609,
     "metadata": {},
     "output_type": "execute_result"
    }
   ],
   "source": [
    "a=np.array([[1,2,5],[4,8,6]])\n",
    "a[1,2]"
   ]
  },
  {
   "cell_type": "code",
   "execution_count": null,
   "metadata": {},
   "outputs": [],
   "source": []
  }
 ],
 "metadata": {
  "kernelspec": {
   "display_name": "Python 3",
   "language": "python",
   "name": "python3"
  },
  "language_info": {
   "codemirror_mode": {
    "name": "ipython",
    "version": 3
   },
   "file_extension": ".py",
   "mimetype": "text/x-python",
   "name": "python",
   "nbconvert_exporter": "python",
   "pygments_lexer": "ipython3",
   "version": "3.4.2"
  }
 },
 "nbformat": 4,
 "nbformat_minor": 2
}
