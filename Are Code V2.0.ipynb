{
 "cells": [
  {
   "cell_type": "markdown",
   "metadata": {},
   "source": [
    "## Modélisation de la survie d'un individu dans un milieu hostile."
   ]
  },
  {
   "cell_type": "code",
   "execution_count": 62,
   "metadata": {},
   "outputs": [],
   "source": [
    "import numpy as np\n",
    "import matplotlib.pyplot as plt\n",
    "import time\n",
    "import matplotlib.animation as animation\n",
    "from matplotlib import colors"
   ]
  },
  {
   "cell_type": "markdown",
   "metadata": {},
   "source": [
    "# Fonctions Humain"
   ]
  },
  {
   "cell_type": "code",
   "execution_count": 63,
   "metadata": {},
   "outputs": [],
   "source": [
    "def construction_abri(cap , source_inf , vegr , veg , s , jourres , abri):\n",
    "    \"\"\"float*bool*int*float*int*bool => bool*int*bool*bool\"\"\"\n",
    "    #sauve:bool\n",
    "    sauve = False\n",
    "    #rand:float\n",
    "    if jourres != 0:\n",
    "        jourres = jourres - 1\n",
    "    else:\n",
    "        abri = True\n",
    "    if jourres == -11 or vegr == 0:\n",
    "        jourres = ((45/(cap*0.5)//10 * 1/(veg/5)))/1.\n",
    "        abri = False\n",
    "        source_inf = False\n",
    "        rand = np.random.random_sample()\n",
    "        if rand < s:\n",
    "            sauve = True\n",
    "    jourres = jourres//1\n",
    "\n",
    "    return jourres , abri , sauve , source_inf"
   ]
  },
  {
   "cell_type": "code",
   "execution_count": 64,
   "metadata": {},
   "outputs": [
    {
     "data": {
      "text/plain": [
       "(22.0, False, True, False)"
      ]
     },
     "execution_count": 64,
     "metadata": {},
     "output_type": "execute_result"
    }
   ],
   "source": [
    "construction_abri(0.1,False,1,20,0.1,-10,False)"
   ]
  },
  {
   "cell_type": "code",
   "execution_count": 65,
   "metadata": {},
   "outputs": [],
   "source": [
    "def trouver_eau(p_eau , capadap , source_inf , hydrat):\n",
    "    \"\"\"float*float*bool*float => bool*float\"\"\"\n",
    "    b=0\n",
    "    if source_inf == 1:\n",
    "        hydrat = 1\n",
    "    else:\n",
    "        rand = np.random.random_sample()\n",
    "        if rand <= 0.4*p_eau*(2.5*capadap):\n",
    "            b=1\n",
    "            hydrat = hydrat + 0.25\n",
    "        elif rand <= p_eau*(5*capadap) :\n",
    "            b=2\n",
    "            hydrat = hydrat + 0.5\n",
    "            rand=np.random.random_sample()\n",
    "            if rand > 0.4:\n",
    "                b=3\n",
    "                source_inf = True\n",
    "    if hydrat > 1:\n",
    "        hydrat = 1\n",
    "    return source_inf , hydrat,b"
   ]
  },
  {
   "cell_type": "code",
   "execution_count": 66,
   "metadata": {},
   "outputs": [],
   "source": [
    " def inter_veget(veg,alimentation,capadap,vegre):\n",
    "    \"\"\"int*float*float=>int*float\"\"\"\n",
    "    #p_vg:float\n",
    "    p_vg=0.6\n",
    "    #trouve:bool\n",
    "    trouve=True\n",
    "    #vegr:int\n",
    "    vegr=vegre\n",
    "    if vegr == 0:\n",
    "        vegr = veg\n",
    "    while vegr>0 and trouve==True:\n",
    "        rand=np.random.random_sample()\n",
    "        if rand * capadap < p_vg:\n",
    "            alimentation = alimentation + (0.08 * capadap)\n",
    "            vegr = vegr - 1\n",
    "            p_vg = p_vg-0.1\n",
    "        else:\n",
    "            trouve=False\n",
    "    if alimentation > 1:\n",
    "        alimentation = 1\n",
    "    return alimentation , vegr"
   ]
  },
  {
   "cell_type": "code",
   "execution_count": 67,
   "metadata": {},
   "outputs": [],
   "source": [
    "\n",
    "def inter_anim(p_a, p_ap, force, capadap, alimentation, sante,c):\n",
    "    \"\"\"\n",
    "    float ^6 -> float ^2\n",
    "    hyp : \n",
    "    \"\"\"\n",
    "    \n",
    "    \n",
    "    random1=np.random.random_sample()\n",
    "    if random1 <= p_a : \n",
    "        random2 = np.random.random_sample()\n",
    "        if random2 <= p_ap :\n",
    "            alimentation,sante = inter_pred(force, capadap, alimentation, sante)\n",
    "        else :\n",
    "            alimentation = alimentation + 0.15\n",
    "    if alimentation > 1:\n",
    "        alimentation = 1.0\n",
    "    \n",
    "    if sante <= 0:\n",
    "        sante = 0\n",
    "        c = \"Mort mangé par un prédateur\"\n",
    "        \n",
    "    return alimentation , sante , c"
   ]
  },
  {
   "cell_type": "code",
   "execution_count": 68,
   "metadata": {},
   "outputs": [],
   "source": [
    "def inter_pred(force, cap, alimentation, sante):\n",
    "    \"\"\"\n",
    "    float * float * float * float -> float * float \n",
    "    hyp : random2 <= p_a\n",
    "    rend le niveau d alimentation et de sante apres une rencontre avec un animal dangereux \n",
    "    \"\"\"\n",
    "\n",
    "    random4=np.random.random_sample()\n",
    "    combat = random4*(force+0.5)*(cap+0.5)\n",
    "    if combat <= 0.1 :\n",
    "        sante = 0 \n",
    "    elif combat <=0.4 :\n",
    "        sante = sante - (1-force)*(1-cap)*0.5\n",
    "    elif combat <= 0.7 : \n",
    "        sante =sante - (1-force)*(1-cap)*0.4\n",
    "        alimentation = alimentation + 0.15 \n",
    "    else :\n",
    "        alimentation = alimentation + 0.15\n",
    "    return alimentation, sante"
   ]
  },
  {
   "cell_type": "code",
   "execution_count": 69,
   "metadata": {},
   "outputs": [],
   "source": [
    "def sante_fct_hydr_alim(alimentation,hydratation,sante,abri,force,c):\n",
    "    \"\"\"float³=>float\n",
    "    force en fonction de l'alimentation et hydratation\"\"\"\n",
    "    \n",
    "    if abri==True:\n",
    "        sante=sante+0.025\n",
    "    \n",
    "    if alimentation >= 0.7 and hydratation >=0.7:\n",
    "        if sante<0.2:\n",
    "            sante = 0.2\n",
    "        else:\n",
    "            sante = sante + 0.05\n",
    "    elif alimentation>=0.5 and hydratation >=0.5:\n",
    "        alimentation=alimentation\n",
    "    elif alimentation<0.5 :\n",
    "        if hydratation<0.5:\n",
    "            sante = sante - ((0.5-alimentation)*0.7 + (0.5-hydratation)*0.9)\n",
    "        else:\n",
    "            sante = sante - (0.5-alimentation)*0.5\n",
    "    else:\n",
    "        sante = sante - (0.6-hydratation)\n",
    "    if sante <=0:\n",
    "        sante=0\n",
    "        c=\"Mort d'épuisement\"\n",
    "    if sante > 1.0 :\n",
    "        sante = 1.0\n",
    "    \n",
    "    if sante >=0.3 and force<=1.0:\n",
    "        force=force+0.01\n",
    "    elif force>=0.1:\n",
    "        force=force-0.05\n",
    "    \n",
    "    \n",
    "    hydratation=hydratation-0.3\n",
    "    alimentation=alimentation-0.15\n",
    "    if hydratation <= 0:\n",
    "        hydratation =0\n",
    "        c = \"Mort de déshydratation\"\n",
    "        sante = 0\n",
    "    if alimentation <= 0:\n",
    "        alimentation = 0\n",
    "        c = \"Mort de faim\"\n",
    "        sante = 0\n",
    "    return sante,alimentation,hydratation,force,c"
   ]
  },
  {
   "cell_type": "code",
   "execution_count": 70,
   "metadata": {},
   "outputs": [],
   "source": [
    "def secouru(p_s, j,p_s_ini,p_s_10):\n",
    "    \"\"\"\n",
    "    float * int -> bool \n",
    "    hyp :\n",
    "    retourne si l agent est secouru par une equipe de secours\n",
    "    \"\"\"\n",
    "\n",
    "\n",
    "    #secouru : bool\n",
    "    secouru = False\n",
    "\n",
    "    if j <= 10 :\n",
    "        p_s = p_s + p_s_ini*0.2\n",
    "    elif j <= 25 :\n",
    "        p_s_10 = p_s\n",
    "    else :\n",
    "        p_s = p_s - p_s_10*0.2\n",
    "    \n",
    "    random5=np.random.random_sample()\n",
    "    secouru = random5 <= p_s\n",
    "\n",
    "    return secouru , p_s\n"
   ]
  },
  {
   "cell_type": "code",
   "execution_count": 71,
   "metadata": {},
   "outputs": [
    {
     "data": {
      "text/plain": [
       "(False, 0.009999989999999999)"
      ]
     },
     "execution_count": 71,
     "metadata": {},
     "output_type": "execute_result"
    }
   ],
   "source": [
    "secouru(0.008666657999999999,0,0.00666666,0)"
   ]
  },
  {
   "cell_type": "code",
   "execution_count": 72,
   "metadata": {},
   "outputs": [],
   "source": [
    "def model(jour,Lsante):\n",
    "    \"\"\"int*list[float]\"\"\"\n",
    "    Ljour=[]\n",
    "    for i in range(0,jour):\n",
    "        Ljour.append(i+1)\n",
    "    plt.bar(Ljour,Lsante , color='green' )\n",
    "   "
   ]
  },
  {
   "cell_type": "markdown",
   "metadata": {},
   "source": [
    "## FONCTIONS PREDATEUR"
   ]
  },
  {
   "cell_type": "code",
   "execution_count": 86,
   "metadata": {},
   "outputs": [],
   "source": [
    "def nourriture_p(p_a, alimentation_p, p_e, hydrat_p):\n",
    "    \"\"\"\n",
    "    float^4 -> float^2\n",
    "    retourne le niveau d alimentation et d hydratation du predateur\n",
    "    \"\"\"\n",
    "    \n",
    "    rand = np.random.random_sample()\n",
    "    if rand <= 1.5*p_a:\n",
    "        alimentation_p = alimentation_p + 0.15\n",
    "    if alimentation_p >1 :\n",
    "        alimentation_p = 1\n",
    "    if rand <= 1.3*p_e:\n",
    "        hydrat_p = hydrat_p + 0.4\n",
    "    if hydrat_p > 1:\n",
    "        hydrat_p = 1\n",
    "    return alimentation_p,hydrat_p"
   ]
  },
  {
   "cell_type": "code",
   "execution_count": 87,
   "metadata": {},
   "outputs": [],
   "source": [
    "def ev_nourriture_p(alimentation_p, hydrat_p):\n",
    "    \"\"\"\n",
    "    float^2 -> float^2\n",
    "    retourne le niveau d alimentation du predateur jour apres jour\n",
    "    \"\"\"\n",
    "    alimentation_p = alimentation_p - 0.1\n",
    "    hydrat_p = hydrat_p - 0.3\n",
    "    return alimentation_p, hydrat_p"
   ]
  },
  {
   "cell_type": "code",
   "execution_count": 89,
   "metadata": {},
   "outputs": [],
   "source": [
    "def mort_p_nourriture(alimentation_p, hydrat_p):\n",
    "    \"\"\"\n",
    "    float^2 -> bool\n",
    "    retourne si le predateur meurt de faim ou deshydratation\n",
    "    \"\"\"\n",
    "    if alimentation_p <= 0 or hydrat_p <=0 :\n",
    "        return True\n",
    "    else :\n",
    "        return False"
   ]
  },
  {
   "cell_type": "code",
   "execution_count": 90,
   "metadata": {},
   "outputs": [],
   "source": [
    "def inter_pred(force, cap, alimentation, sante):\n",
    "    \"\"\"\n",
    "    float * float * float * float -> float * float \n",
    "    hyp : random2 <= p_a\n",
    "    rend le niveau d alimentation et de sante apres une rencontre avec un animal dangereux \n",
    "    \"\"\"\n",
    "\n",
    "    random4=np.random.random_sample()\n",
    "    combat = random4*(force+0.5)*(cap+0.5)\n",
    "    if combat <= 0.1 :\n",
    "        sante = 0 \n",
    "    elif combat <=0.4 :\n",
    "        sante = sante - (1-force)*(1-cap)*0.5\n",
    "    elif combat <= 0.7 : \n",
    "        sante =sante - (1-force)*(1-cap)*0.4\n",
    "        alimentation = alimentation + 0.15 \n",
    "    else :\n",
    "        alimentation = alimentation + 0.15\n",
    "    return alimentation, sante"
   ]
  },
  {
   "cell_type": "code",
   "execution_count": 92,
   "metadata": {},
   "outputs": [],
   "source": [
    "def combat_p_h(force,cap,dang_p,sante):\n",
    "    \"\"\"\n",
    "    float^4 -> float * bool\n",
    "    retourne l'issue du combat entre le predateur et l'humain\n",
    "    \"\"\"\n",
    "    mort=False\n",
    "    rand = np.random.random_sample()\n",
    "    res = rand*(dang_p+0.45)*(cap-1.65)*(force-1.65)\n",
    "        \n",
    "    \n",
    "    return res"
   ]
  },
  {
   "cell_type": "code",
   "execution_count": 93,
   "metadata": {},
   "outputs": [],
   "source": [
    "def sante_apres_combat(res,alimentation,sante,alimentation_p,sante_p):\n",
    "    \"\"\"\n",
    "    float ^5 -> float ^4 * str\n",
    "    retourne le niveau de sante et d alimentation en fonction de l'issue du combat, \n",
    "    et la cause de la mort si l agent humain meurt\n",
    "    \"\"\"\n",
    "    #c : str\n",
    "    c=\"\"\n",
    "    if res < 0.16 :\n",
    "        alimentation = alimentation + 0.15\n",
    "        sante_p = 0\n",
    "        c = \"le prédateur est tué par l'humain\"\n",
    "    elif res < 0.33 :\n",
    "        alimentation = alimentation + 0.15\n",
    "        sante = sante - res\n",
    "        sante_p = 0\n",
    "        c = \" le prédateur est tué par l'humain\"\n",
    "    elif res < 0.5 :\n",
    "        sante_p = sante_p - (1 - res)\n",
    "    elif res < 0.66 :\n",
    "        sante = sante - res\n",
    "        sante_p = sante_p - (1 - res)\n",
    "    elif res < 0.8 :\n",
    "        sante = 0\n",
    "        sante_p = sante_p - (1 - res)\n",
    "        c = \"l'humain est tué par le prédateur\"\n",
    "    else :\n",
    "        sante = 0\n",
    "        c = \"l'humain est tué par le prédateur\"\n",
    "    return alimentation, sante, alimentation_p, sante_p , c \n",
    "    "
   ]
  },
  {
   "cell_type": "code",
   "execution_count": 94,
   "metadata": {},
   "outputs": [],
   "source": [
    "def sante_fct_hydr_alim_p(alimentation_p, hydrat_p, sante_p):\n",
    "    \"\"\"\n",
    "    float ^3 -> float\n",
    "    retourne la sante du prédateur en fonction de son alimentation et hydratation\n",
    "    \"\"\"\n",
    "    \n",
    "    if alimentation_p >= 0.5 and hydrat_p >=0.5:\n",
    "        if sante_p<0.3:\n",
    "              sante_p = 0.3\n",
    "        else:\n",
    "              sante_p = sante_p + 0.1\n",
    "    elif alimentation_p < 0.5 :\n",
    "        if hydrat_p < 0.5:\n",
    "            sante_p = sante_p - ((0.5-alimentation_p)*0.5 + (0.5-hydrat_p)*0.8)\n",
    "        else:\n",
    "            sante_p = sante_p - (0.5-alimentation_p)*0.4\n",
    "    else:\n",
    "        sante_p = sante_p - (0.5-hydrat_p)*0.84\n",
    "    if sante_p > 1.0 :\n",
    "        sante_p = 1.0\n",
    "    return sante_p"
   ]
  },
  {
   "cell_type": "markdown",
   "metadata": {},
   "source": [
    "# Dictionnaires Agents"
   ]
  },
  {
   "cell_type": "code",
   "execution_count": 73,
   "metadata": {},
   "outputs": [],
   "source": [
    "#dictionnaire_agent:dict[str:tuple[float,float]]\n",
    "dictionnaire_agent={}\n",
    "dictionnaire_agent[\"professionnel\"]=(0.8,0.9)\n",
    "dictionnaire_agent[\"bureaucrate\"]=(0.2,0.3)\n",
    "dictionnaire_agent[\"moyen\"]=(0.5,0.5)\n",
    "dictionnaire_agent[\"Maxime\"]=(0.1,0.1)\n",
    "\n",
    "#dictionnaire_biome:dict[str:tuple[float,float,int,float,float,float]]\n",
    "dictionnaire_biome={}\n",
    "dictionnaire_biome[\"Amazonie\"]=(0.65,0.55,33,0.7,0.03571428571,0.007142857142)\n",
    "dictionnaire_biome[\"Alaska\"]=(0.38,0.25,18,0.6,0.00043185564,0.0086371128)\n",
    "dictionnaire_biome[\"France\"]=(0.3,0.05,17,0.6,0.03,0.06)\n",
    "dictionnaire_biome[\"Sahara\"]=(0.25,0.5,1,0.1,0.00333333,0.00666666)"
   ]
  },
  {
   "cell_type": "code",
   "execution_count": 74,
   "metadata": {},
   "outputs": [],
   "source": [
    "def nouveau_agent(nom,force,cap):\n",
    "    \"\"\"\n",
    "    str * float^2 -> dict[str:tuple[float,float]]\n",
    "    hyp: len(nom) >= 1 and force >0 and force <1 and cap >0 and cap <1\n",
    "    retourne le dictionnaire des agents augmenté de l agent créé\n",
    "    \"\"\"\n",
    "    dictionnaire_agent[nom]=(force,cap)\n",
    "    return dictionnaire_agent\n"
   ]
  },
  {
   "cell_type": "code",
   "execution_count": 75,
   "metadata": {},
   "outputs": [],
   "source": [
    "def nouveau_biome(nom,p_a,p_ap,veg,p_e,p_v,p_s):\n",
    "    \"\"\"\n",
    "    str * float^6 -> dict[str:tuple[float,float,int,float,float,float]]\n",
    "    hyp: len(nom) >= 1 and 0< p_a <1 and 0< p_ap <1 and 0< veg and 0< p_e <1 and 0< p_v <1 and 0< p_s <1\n",
    "    retourne le dictionnaire des biomes augmenté du biome créé\n",
    "    \"\"\"\n",
    "    dictionnaire_biome[nom]=(p_a,p_ap,veg,p_e,p_v,p_s)"
   ]
  },
  {
   "cell_type": "code",
   "execution_count": 76,
   "metadata": {},
   "outputs": [
    {
     "data": {
      "text/plain": [
       "{'Maxime': (0.1, 0.1),\n",
       " 'Timotuc': (2, 2),\n",
       " 'bureaucrate': (0.2, 0.3),\n",
       " 'moyen': (0.5, 0.5),\n",
       " 'professionnel': (0.8, 0.9)}"
      ]
     },
     "execution_count": 76,
     "metadata": {},
     "output_type": "execute_result"
    }
   ],
   "source": [
    "nouveau_agent(\"Timotuc\",2,2)"
   ]
  },
  {
   "cell_type": "markdown",
   "metadata": {},
   "source": [
    "# Modélisation/déplacements"
   ]
  },
  {
   "cell_type": "code",
   "execution_count": 77,
   "metadata": {},
   "outputs": [],
   "source": [
    "def dessin(mat):\n",
    "    cmap = colors.ListedColormap(['purple','red', 'white', 'black','green'])\n",
    "    bounds = [-3,-1, 0, 1, 2,3]\n",
    "    norm = colors.BoundaryNorm(bounds, cmap.N)\n",
    "    print(cmap,bounds,norm)\n",
    "\n",
    "    fig = plt.figure()\n",
    "\n",
    "    frame = plt.gca()\n",
    "    frame.axes.get_xaxis().set_visible(False)\n",
    "    frame.axes.get_yaxis().set_visible(False)\n",
    "\n",
    "    grid = plt.imshow(mat, interpolation='nearest', cmap=cmap,\n",
    "                          norm=norm)\n",
    "\n",
    "    \n",
    "    \n",
    "    plt.show()"
   ]
  },
  {
   "cell_type": "code",
   "execution_count": 78,
   "metadata": {},
   "outputs": [],
   "source": [
    "def carto(chanzon,mat,nbdep):\n",
    "    \n",
    "    #i:int\n",
    "    #j:int\n",
    "    borne=10\n",
    "    ha,ga,ba,da=True,True,True,True\n",
    "    suii=0\n",
    "    suij=0   \n",
    "    nbdep=nbdep+1\n",
    "    for i in range(0,borne+1):\n",
    "        for j in range(0,borne+1):\n",
    "            if mat[i,j]==1:\n",
    "                poshj=j\n",
    "                poshi=i\n",
    "            if mat[i,j]==-1:\n",
    "                pospi=i\n",
    "                pospj=j\n",
    "    borpi=2\n",
    "    borpj=2\n",
    "    if pospi==borne:\n",
    "        borpi=1\n",
    "    if pospj==borne:\n",
    "        borpj=1\n",
    "    borhi=2\n",
    "    borhj=2\n",
    "    if poshi==borne:\n",
    "        borhi=1\n",
    "    if poshj==borne:\n",
    "        borhj=1\n",
    "    if chanzon == True:\n",
    "        a=0\n",
    "        while a==0:\n",
    "            n=(np.random.random_sample()*8)//2\n",
    "            if n>=2.9 and n<=3.1 and poshj!=0:\n",
    "                if mat[poshi,poshj-1]<2:\n",
    "                    mat[poshi,poshj]=nbdep\n",
    "                    mat[poshi,poshj-1]=1\n",
    "                    a=1\n",
    "            elif n>=1.9 and n<=2.1 and poshi!=borne :\n",
    "                if mat[poshi+1,poshj]<2:\n",
    "                    mat[poshi,poshj]=nbdep\n",
    "                    mat[poshi+1,poshj]=1\n",
    "                    a=1\n",
    "            elif n>=0.9 and n<=1.1 and poshj!=borne:\n",
    "                if mat[poshi,poshj+1]<2:\n",
    "                    mat[poshi,poshj]=nbdep\n",
    "                    mat[poshi,poshj+1]=1\n",
    "                    a=1\n",
    "            elif n>=-0.1 and n<=0.1 and poshi!=0:\n",
    "                if mat[poshi-1,poshj]<2:\n",
    "                    mat[poshi,poshj]=nbdep\n",
    "                    mat[poshi-1,poshj]=1\n",
    "                    a=1\n",
    "            \n",
    "            if poshi!=0:\n",
    "                if mat[poshi-1,poshj]>0 or mat[poshi-1,poshj]==-3:\n",
    "                    ha=False\n",
    "            else:\n",
    "                ha=False\n",
    "            if poshj!=0:\n",
    "                if mat[poshi,poshj-1]>0 or mat[poshi,poshj-1]==-3:\n",
    "                    ga=False\n",
    "            else:\n",
    "                ga=False\n",
    "            if poshj!=borne:\n",
    "                if mat[poshi,poshj+1]>0 or mat[poshi,poshj+1]==-3:\n",
    "                    da=False\n",
    "            else:\n",
    "                da=False\n",
    "            if poshi!=borne:\n",
    "                if mat[poshi+1,poshj]>0 or mat[poshi+1,poshj]==-3:\n",
    "                    ba=False\n",
    "            else:\n",
    "                ba=False\n",
    "                \n",
    "            if ba==False and ha==False and da==False and ga==False:\n",
    "                suivi=10000\n",
    "                for i in range(poshi-1,poshi+borhi):\n",
    "                    for j in range(poshj-1,poshj+borhj):\n",
    "                        if mat[i,j]<suivi and i>=0 and i<=borne and j<=borne and j>=0 and mat[i,j]!=1:\n",
    "                            suivi=mat[i,j]\n",
    "                            suii=i\n",
    "                            suij=j\n",
    "                mat[poshi,poshj]=nbdep\n",
    "                mat[suii,suij]=1\n",
    "                a=1\n",
    "    \n",
    "    \n",
    "\n",
    "\n",
    "        suivi=0\n",
    "        traque=False\n",
    "        combat=False\n",
    "        \n",
    "        for i in range(pospi-1,pospi+borpi):\n",
    "            for j in range(pospj-1,pospj+borpj):\n",
    "                if mat[i,j]!=0 and mat[i,j]!=-1 :\n",
    "                    print(i,j)\n",
    "                    if i>=0 and i<=borne and j<=borne and j>=0:\n",
    "                        traque=True\n",
    "                        if mat[i,j]==1:\n",
    "                            combat= True\n",
    "                        elif mat[i,j]>suivi:\n",
    "                            suivi=mat[i,j]\n",
    "                            suii=i\n",
    "                            suij=j\n",
    "                            visite=True\n",
    "                if mat[i,j]==1 and i>=0 and i<=borne and j<=borne and j>=0:\n",
    "                    combat= True\n",
    "                    mat[i,j]=100000\n",
    "        if traque==True and combat==False:\n",
    "            if visite==True:\n",
    "                mat[pospi,pospj]=-3\n",
    "            else:\n",
    "                mat[pospi,pospj]=0\n",
    "            pospi=suii\n",
    "            pospj=suij\n",
    "            mat[pospi,pospj]=-1\n",
    "        if traque==False and combat==False:\n",
    "            a=0\n",
    "            while a==0:\n",
    "                n=(np.random.random_sample()*8)//2\n",
    "                if n>=3 and pospj!=0 :\n",
    "\n",
    "                    mat[pospi,pospj]=0\n",
    "                    mat[pospi,pospj-1]=-1\n",
    "                    a=1\n",
    "                elif n>=2 and pospi!=borne :\n",
    "\n",
    "                    mat[pospi,pospj]=0\n",
    "                    mat[pospi+1,pospj]=-1\n",
    "                    a=1\n",
    "                elif n>=1 and pospj!=borne:\n",
    "\n",
    "                    mat[pospi,pospj]=0\n",
    "                    mat[pospi,pospj+1]=-1\n",
    "                    a=1\n",
    "                elif n>=0 and pospi!=0 :\n",
    "\n",
    "                    mat[pospi,pospj]=0\n",
    "                    mat[pospi-1,pospj]=-1\n",
    "                    a=1\n",
    "        for i in range (0,borne+1):\n",
    "            for j in range(0,borne+1):\n",
    "                if mat[i,j]>1 and mat[i,j]<nbdep-15:\n",
    "                    mat[i,j]=-3\n",
    "    dessin(mat)\n",
    "    return mat\n",
    "        "
   ]
  },
  {
   "cell_type": "code",
   "execution_count": 79,
   "metadata": {},
   "outputs": [
    {
     "name": "stdout",
     "output_type": "stream",
     "text": [
      "[[ 0.  0.  0.  0.  0.  0.  0.  0.  0.  0.  0.]\n",
      " [ 0.  0.  0.  0.  0.  0.  0.  0.  0.  0.  0.]\n",
      " [ 0.  0.  0.  0.  0.  0.  0.  0.  0.  0.  0.]\n",
      " [ 0.  0.  0.  0.  0.  0.  0. -1.  0.  0.  0.]\n",
      " [ 0.  0.  0.  0.  0. 22. 23.  0.  0.  0.  0.]\n",
      " [ 0.  0.  0.  0.  0.  0. 24.  0.  0.  0.  0.]\n",
      " [ 0.  0.  0.  0.  0.  0. 25.  0.  0.  0.  0.]\n",
      " [ 0.  0.  0.  0.  0.  0. 26. 27. 28.  1.  0.]\n",
      " [ 0.  0.  0.  0.  0.  0.  0.  0.  0.  0.  0.]\n",
      " [ 0.  0.  0.  0.  0.  0.  0.  0.  0.  0.  0.]\n",
      " [ 0.  0.  0.  0.  0.  0.  0.  0.  0.  0.  0.]]\n"
     ]
    }
   ],
   "source": [
    "a=np.zeros((11,11))\n",
    "\n",
    "a[3,7]=-1\n",
    "a[6,6]=25\n",
    "a[5,6]=24\n",
    "a[4,6]=23\n",
    "a[4,5]=22\n",
    "a[7,6]=26\n",
    "a[7,7]=27\n",
    "a[7,8]=28\n",
    "a[7,9]=1\n",
    "print(a)"
   ]
  },
  {
   "cell_type": "code",
   "execution_count": 80,
   "metadata": {
    "scrolled": true
   },
   "outputs": [
    {
     "name": "stdout",
     "output_type": "stream",
     "text": [
      "4 6\n",
      "<matplotlib.colors.ListedColormap object at 0x7fd6fbe184a8> [-3, -1, 0, 1, 2, 3] <matplotlib.colors.BoundaryNorm object at 0x7fd6fbe18b00>\n"
     ]
    },
    {
     "data": {
      "image/png": "[encoded data removed]",
      "text/plain": [
       "<matplotlib.figure.Figure at 0x7fd6fbe188d0>"
      ]
     },
     "metadata": {},
     "output_type": "display_data"
    },
    {
     "data": {
      "text/plain": [
       "array([[ 0.,  0.,  0.,  0.,  0.,  0.,  0.,  0.,  0.,  0.,  0.],\n",
       "       [ 0.,  0.,  0.,  0.,  0.,  0.,  0.,  0.,  0.,  0.,  0.],\n",
       "       [ 0.,  0.,  0.,  0.,  0.,  0.,  0.,  0.,  0.,  0.,  0.],\n",
       "       [ 0.,  0.,  0.,  0.,  0.,  0.,  0., -3.,  0.,  0.,  0.],\n",
       "       [ 0.,  0.,  0.,  0.,  0., 22., -1.,  0.,  0.,  0.,  0.],\n",
       "       [ 0.,  0.,  0.,  0.,  0.,  0., 24.,  0.,  0.,  0.,  0.],\n",
       "       [ 0.,  0.,  0.,  0.,  0.,  0., 25.,  0.,  0.,  1.,  0.],\n",
       "       [ 0.,  0.,  0.,  0.,  0.,  0., 26., 27., 28., 35.,  0.],\n",
       "       [ 0.,  0.,  0.,  0.,  0.,  0.,  0.,  0.,  0.,  0.,  0.],\n",
       "       [ 0.,  0.,  0.,  0.,  0.,  0.,  0.,  0.,  0.,  0.,  0.],\n",
       "       [ 0.,  0.,  0.,  0.,  0.,  0.,  0.,  0.,  0.,  0.,  0.]])"
      ]
     },
     "execution_count": 80,
     "metadata": {},
     "output_type": "execute_result"
    }
   ],
   "source": [
    "carto(True, a,34)"
   ]
  },
  {
   "cell_type": "code",
   "execution_count": 81,
   "metadata": {
    "scrolled": false
   },
   "outputs": [
    {
     "name": "stdout",
     "output_type": "stream",
     "text": [
      "3 7\n",
      "4 5\n",
      "5 6\n",
      "<matplotlib.colors.ListedColormap object at 0x7fd71ad70fd0> [-3, -1, 0, 1, 2, 3] <matplotlib.colors.BoundaryNorm object at 0x7fd71ad70b38>\n"
     ]
    },
    {
     "data": {
      "image/png": "[encoded data removed]",
      "text/plain": [
       "<matplotlib.figure.Figure at 0x7fd71ad70a58>"
      ]
     },
     "metadata": {},
     "output_type": "display_data"
    },
    {
     "name": "stdout",
     "output_type": "stream",
     "text": [
      "4 5\n",
      "4 6\n",
      "6 6\n",
      "<matplotlib.colors.ListedColormap object at 0x7fd6fbdfc2e8> [-3, -1, 0, 1, 2, 3] <matplotlib.colors.BoundaryNorm object at 0x7fd6fbdfcda0>\n"
     ]
    },
    {
     "data": {
      "image/png": "[encoded data removed]",
      "text/plain": [
       "<matplotlib.figure.Figure at 0x7fd6fbdfcbe0>"
      ]
     },
     "metadata": {},
     "output_type": "display_data"
    },
    {
     "name": "stdout",
     "output_type": "stream",
     "text": [
      "5 6\n",
      "5 7\n",
      "7 6\n",
      "7 7\n",
      "<matplotlib.colors.ListedColormap object at 0x7fd6fbcdc4a8> [-3, -1, 0, 1, 2, 3] <matplotlib.colors.BoundaryNorm object at 0x7fd6fbcdcc88>\n"
     ]
    },
    {
     "data": {
      "image/png": "[encoded data removed]",
      "text/plain": [
       "<matplotlib.figure.Figure at 0x7fd6fbcdcdd8>"
      ]
     },
     "metadata": {},
     "output_type": "display_data"
    }
   ],
   "source": [
    "b=0\n",
    "c=0\n",
    "while b<3:\n",
    "    b=b+1\n",
    "    a=carto(True,a,b)\n",
    "    if c==1:\n",
    "        time.sleep(1)"
   ]
  },
  {
   "cell_type": "markdown",
   "metadata": {},
   "source": [
    "# Simulations"
   ]
  },
  {
   "cell_type": "code",
   "execution_count": 82,
   "metadata": {},
   "outputs": [],
   "source": [
    "\n",
    "\n",
    "def simulation_survie(agent,biome):\n",
    "    \"\"\"str*str*dict[str:tuple[float,float]]*dict[str:tuple[float,float,int,float,float,float]]\"\"\"\n",
    "    \n",
    "    #c : cause de la fin\n",
    "    c = \"\"\n",
    "    #j : compteur jour\n",
    "    j = 0\n",
    "    #jour_r:float\n",
    "    jour_r=-10\n",
    "    #abri:bool\n",
    "    abri=False\n",
    "    #sauve:bool\n",
    "    sauve=False\n",
    "    #sourceinf:bool\n",
    "    source_inf=False\n",
    "    #sante:float\n",
    "    sante=1.0\n",
    "    #hydrat:float\n",
    "    hydrat=1.0\n",
    "    #alimentation:float\n",
    "    alimentation=1.0\n",
    "    #Lsante:list[float]\n",
    "    Lsante=[]\n",
    "    Leau=[]\n",
    "    \n",
    "    force , capadap = dictionnaire_agent[agent]\n",
    "    p_a , p_ap , veg , p_e , p_v , p_s = dictionnaire_biome[biome]\n",
    "    vegr=veg\n",
    "    p_s_ini = p_s\n",
    "    p_s_10=p_s\n",
    "    while sante > 0 and sauve != True:\n",
    "        jour_r , abri , sauve , source_inf = construction_abri(capadap , source_inf , vegr , veg , p_v , jour_r , abri)\n",
    "        \n",
    "        sourceinf , hydrat ,b = trouver_eau(p_e , capadap , source_inf , hydrat)\n",
    "        \n",
    "        alimentation , sante , c  = inter_anim(p_a, p_ap, force, capadap, alimentation, sante, c)\n",
    "        \n",
    "        if c != \"\":\n",
    "            print(model(j,Lsante),Lsante)\n",
    "            return j, c,sante\n",
    "        \n",
    "        alimentation , vegr = inter_veget(veg,alimentation,capadap,vegr)\n",
    "        \n",
    "        sante , alimentation , hydrat , force , c = sante_fct_hydr_alim(alimentation, hydrat, sante,abri,force,c)\n",
    "        \n",
    "        sauve , p_s = secouru (p_s,j,p_s_ini,p_s_10)\n",
    "        \n",
    "        Lsante.append(sante)\n",
    "        Leau.append(hydrat)\n",
    "        #Définition de la capacité de survie a x jour\n",
    "        \n",
    "        if j==10:\n",
    "            p_s_10 = p_s\n",
    "        \n",
    "        #Augmentation de la capacité d'adaptation\n",
    "        if capadap<1.0:\n",
    "            capadap=capadap+0.01\n",
    "       \n",
    "        \n",
    "        j=j+1\n",
    "    print(model(j,Lsante),Lsante)\n",
    "    if sauve==True:\n",
    "        c=\"Sauvé!\"\n",
    "    return j, c,sante\n",
    "\n",
    "\n"
   ]
  },
  {
   "cell_type": "code",
   "execution_count": 83,
   "metadata": {},
   "outputs": [],
   "source": [
    "def test(a,b,c):\n",
    "    comp=0\n",
    "    while a!=0:\n",
    "        aa,ab,ah=simulation_survie(b,c)\n",
    "        if ah!=0:\n",
    "            comp=comp+1\n",
    "        a=a-1\n",
    "    return simulation_survie(b,c),comp"
   ]
  },
  {
   "cell_type": "code",
   "execution_count": 84,
   "metadata": {
    "scrolled": true
   },
   "outputs": [
    {
     "name": "stdout",
     "output_type": "stream",
     "text": [
      "None [1.0, 1.0, 1.0, 1.0, 1.0, 1.0, 1.0, 1.0, 1.0, 1.0]\n",
      "None [1.0, 1.0, 1.0, 1.0, 1.0]\n",
      "None [1.0, 1.0, 1.0, 1.0]\n",
      "None [1.0, 1.0, 1.0, 1.0, 1.0, 1.0, 1.0, 1.0, 1.0, 1.0, 1.0, 1.0, 1.0, 1.0, 1.0, 1.0, 1.0, 1.0, 1.0, 1.0, 1.0, 1.0, 1.0, 1.0, 1.0, 1.0, 1.0]\n",
      "None [1.0, 1.0, 1.0, 1.0, 1.0, 1.0, 1.0, 1.0, 1.0, 1.0, 1.0, 1.0, 1.0, 1.0, 1.0, 1.0, 1.0]\n",
      "None [1.0]\n",
      "None [1.0, 1.0, 1.0, 1.0, 1.0, 1.0, 1.0, 1.0, 1.0, 1.0, 1.0, 0.9379999999999998, 0.9159999999999998, 0.8189999999999997, 0.7669999999999997, 0.6399999999999997, 0.5579999999999997, 0.5159999999999998, 0.4739999999999998, 0.47699999999999987, 0.5019999999999999, 0.5269999999999999, 0.5519999999999999, 0.627, 0.7020000000000001, 0.7770000000000001, 0.8520000000000002, 0.9270000000000003, 0.9520000000000003, 0.9770000000000003, 0.9770000000000003, 1.0, 1.0, 1.0, 1.0, 1.0, 1.0, 1.0, 1.0, 1.0, 1.0, 1.0, 1.0, 1.0, 1.0, 1.0, 1.0, 1.0, 1.0, 1.0, 1.0, 1.0, 1.0, 1.0, 1.0, 0.9449999999999998, 0.9699999999999998, 0.9949999999999998, 1.0, 1.0]\n",
      "None [1.0, 1.0, 1.0]\n",
      "None [1.0, 1.0, 1.0, 1.0, 1.0, 1.0, 1.0, 1.0, 1.0, 1.0, 1.0, 1.0, 1.0, 1.0, 1.0, 1.0, 1.0, 1.0, 1.0, 1.0, 1.0, 1.0, 1.0, 1.0, 1.0, 1.0, 1.0, 1.0, 1.0, 1.0, 1.0, 1.0, 1.0]\n",
      "None [1.0, 1.0, 1.0, 1.0, 1.0, 1.0, 1.0, 1.0, 1.0, 1.0, 1.0, 1.0, 1.0, 1.0, 1.0, 1.0, 1.0, 1.0, 1.0, 1.0, 1.0, 1.0, 1.0, 1.0, 1.0, 1.0, 1.0, 1.0, 1.0, 1.0, 1.0, 1.0, 1.0, 1.0, 1.0, 1.0, 1.0, 1.0, 1.0, 0.9249999999999996, 0.7999999999999993, 0.6249999999999989, 0.3999999999999986, 0]\n",
      "None [1.0, 1.0, 1.0, 1.0, 1.0, 1.0, 1.0, 1.0, 1.0, 1.0, 1.0, 1.0, 1.0, 1.0, 1.0, 1.0, 1.0, 1.0, 1.0, 1.0, 1.0, 1.0, 1.0, 1.0, 1.0, 1.0, 1.0, 1.0, 1.0, 1.0, 1.0, 1.0, 1.0, 1.0, 1.0, 1.0, 1.0, 1.0, 1.0, 1.0, 1.0, 0.9449999999999998, 0.9299999999999998, 0.8399999999999999, 0.7499999999999998, 0.6599999999999997, 0.5699999999999996, 0.5199999999999996, 0.5149999999999996, 0.43499999999999955, 0.43499999999999955, 0.43999999999999956, 0.44499999999999956, 0.4699999999999996, 0.43999999999999956, 0.37499999999999956, 0.38999999999999957, 0.36999999999999955, 0.3149999999999996, 0.18499999999999966, 0]\n",
      "None [1.0, 1.0, 1.0, 1.0, 1.0, 1.0, 1.0, 1.0, 1.0, 1.0, 1.0, 1.0, 1.0, 1.0, 1.0, 1.0, 1.0, 1.0]\n",
      "None [1.0, 1.0, 1.0, 1.0, 1.0, 1.0, 1.0, 1.0, 1.0, 1.0, 1.0, 1.0, 1.0, 1.0, 1.0, 1.0, 1.0, 1.0, 1.0, 1.0, 1.0, 1.0, 1.0, 1.0, 1.0, 1.0, 1.0, 1.0, 1.0, 1.0, 1.0, 1.0, 1.0, 1.0, 1.0, 1.0, 1.0, 1.0, 1.0, 1.0, 1.0, 1.0, 1.0, 1.0, 1.0, 1.0, 1.0, 1.0, 1.0, 1.0, 1.0, 1.0, 1.0, 1.0, 1.0, 1.0, 1.0, 1.0, 1.0, 1.0, 1.0, 1.0, 1.0, 1.0, 1.0, 1.0, 1.0, 1.0, 1.0, 1.0, 1.0, 1.0, 1.0, 1.0, 1.0, 1.0, 1.0, 1.0, 1.0, 1.0, 1.0, 1.0, 1.0, 1.0, 1.0, 1.0, 1.0, 1.0, 1.0, 1.0, 1.0, 1.0, 1.0, 1.0, 1.0, 1.0, 1.0, 1.0, 1.0]\n",
      "None [1.0, 1.0, 1.0, 1.0, 1.0, 1.0, 1.0, 1.0, 1.0, 1.0, 1.0, 1.0, 1.0, 1.0, 1.0, 1.0, 1.0, 1.0, 1.0, 1.0, 1.0, 1.0, 1.0, 1.0, 1.0, 1.0, 1.0, 1.0, 1.0]\n",
      "None [1.0, 1.0, 1.0, 1.0, 1.0, 1.0, 1.0, 1.0, 1.0, 1.0, 1.0, 1.0, 1.0]\n",
      "None [1.0, 1.0, 1.0, 1.0, 1.0, 1.0]\n",
      "None [1.0, 1.0, 1.0, 1.0, 1.0, 1.0, 1.0, 1.0, 1.0, 1.0, 1.0]\n",
      "None [1.0, 1.0, 1.0, 1.0, 1.0, 1.0, 1.0, 1.0, 1.0, 1.0, 1.0, 1.0, 1.0, 1.0, 1.0, 1.0, 1.0, 1.0, 1.0]\n",
      "None [1.0, 1.0, 1.0, 1.0, 1.0, 1.0, 1.0, 1.0, 1.0, 1.0, 1.0, 1.0, 1.0, 1.0, 1.0, 0.9249999999999994, 0.7999999999999988, 0.8249999999999988, 0.8999999999999989, 0.974999999999999]\n",
      "None [1.0, 1.0, 1.0, 1.0, 1.0, 1.0, 1.0, 1.0, 1.0, 1.0, 1.0, 1.0, 1.0, 1.0, 1.0, 1.0, 1.0, 1.0, 1.0, 1.0, 1.0, 1.0, 1.0, 1.0, 1.0, 1.0, 1.0, 1.0, 1.0, 1.0, 1.0, 1.0, 1.0, 1.0, 1.0, 1.0, 1.0, 1.0, 1.0, 1.0, 1.0, 1.0, 1.0, 1.0, 1.0, 1.0, 1.0, 1.0, 1.0, 1.0, 1.0, 1.0, 1.0]\n",
      "None [1.0, 1.0, 1.0, 1.0, 1.0]\n",
      "None [1.0, 1.0, 1.0, 1.0, 1.0, 1.0, 1.0, 1.0, 1.0, 1.0, 1.0, 1.0, 1.0, 1.0, 1.0, 1.0, 1.0, 1.0, 1.0, 1.0, 1.0, 1.0, 1.0, 1.0, 1.0, 1.0, 1.0, 1.0, 1.0, 0.9849999999999998, 0.9699999999999998, 0.9599999999999997, 0.9599999999999997, 1.0, 1.0, 1.0, 1.0, 1.0, 0.9249999999999989, 0.7999999999999979, 0.6249999999999969, 0.5079999999999959, 0]\n",
      "None [1.0]\n",
      "None [1.0]\n",
      "None [1.0, 1.0, 1.0, 1.0, 1.0, 1.0, 1.0, 1.0]\n",
      "None [1.0, 1.0, 1.0, 1.0, 1.0, 1.0, 1.0, 1.0, 1.0, 1.0, 1.0, 1.0, 1.0]\n",
      "None [1.0, 1.0, 1.0, 1.0, 1.0, 1.0]\n",
      "None [1.0, 1.0, 1.0, 1.0, 1.0, 1.0, 1.0, 1.0, 1.0, 1.0, 1.0, 1.0, 1.0]\n",
      "None [1.0, 1.0, 1.0, 1.0, 1.0, 1.0, 1.0, 1.0, 1.0, 1.0, 1.0, 1.0, 1.0, 1.0, 1.0, 1.0, 1.0, 1.0, 1.0, 1.0, 1.0, 1.0, 1.0, 1.0, 1.0, 1.0, 1.0, 1.0, 1.0, 1.0, 1.0, 1.0, 1.0, 1.0, 1.0, 1.0, 1.0, 1.0, 1.0, 1.0, 1.0, 1.0, 1.0, 1.0, 1.0, 1.0, 1.0, 1.0, 1.0, 0.9949999999999997, 0.9149999999999994, 0.9149999999999991, 0.9399999999999992, 0.9649999999999992, 0.9899999999999992, 1.0, 1.0, 1.0, 1.0, 1.0, 1.0, 1.0, 1.0, 0.9799999999999995, 1.0, 1.0, 1.0, 1.0, 1.0, 1.0, 1.0, 1.0, 1.0, 1.0, 1.0, 1.0, 1.0, 1.0, 1.0, 1.0, 1.0, 1.0, 1.0, 1.0, 1.0, 1.0, 1.0, 1.0, 1.0, 1.0, 1.0, 1.0, 1.0, 1.0, 1.0, 1.0, 1.0, 1.0, 1.0, 1.0, 1.0, 1.0, 1.0, 1.0, 1.0, 1.0, 1.0]\n",
      "None [1.0, 1.0, 1.0]\n",
      "None [1.0, 1.0, 1.0, 1.0, 1.0, 1.0, 1.0, 1.0, 1.0, 1.0, 1.0]\n"
     ]
    },
    {
     "data": {
      "text/plain": [
       "((11, 'Sauvé!', 1.0), 11)"
      ]
     },
     "execution_count": 84,
     "metadata": {},
     "output_type": "execute_result"
    },
    {
     "data": {
      "image/png": "[encoded data removed]",
      "text/plain": [
       "<matplotlib.figure.Figure at 0x7fd6fbe4a7b8>"
      ]
     },
     "metadata": {},
     "output_type": "display_data"
    }
   ],
   "source": [
    "test(30,\"professionnel\",\"Amazonie\")"
   ]
  },
  {
   "cell_type": "code",
   "execution_count": null,
   "metadata": {},
   "outputs": [],
   "source": []
  }
 ],
 "metadata": {
  "kernelspec": {
   "display_name": "Python 3",
   "language": "python",
   "name": "python3"
  },
  "language_info": {
   "codemirror_mode": {
    "name": "ipython",
    "version": 3
   },
   "file_extension": ".py",
   "mimetype": "text/x-python",
   "name": "python",
   "nbconvert_exporter": "python",
   "pygments_lexer": "ipython3",
   "version": "3.4.2"
  }
 },
 "nbformat": 4,
 "nbformat_minor": 2
}
